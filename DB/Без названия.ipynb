{
 "cells": [
  {
   "cell_type": "code",
   "execution_count": 27,
   "id": "2821476e",
   "metadata": {},
   "outputs": [
    {
     "data": {
      "text/html": [
       "<style type=\"text/css\">\n",
       "#T_7573d_row0_col0, #T_7573d_row0_col1, #T_7573d_row0_col2, #T_7573d_row0_col3, #T_7573d_row0_col4, #T_7573d_row1_col0, #T_7573d_row1_col1, #T_7573d_row1_col2, #T_7573d_row1_col3, #T_7573d_row1_col4, #T_7573d_row2_col0, #T_7573d_row2_col1, #T_7573d_row2_col2, #T_7573d_row2_col3, #T_7573d_row2_col4, #T_7573d_row3_col0, #T_7573d_row3_col1, #T_7573d_row3_col2, #T_7573d_row3_col3, #T_7573d_row3_col4 {\n",
       "  text-align: left;\n",
       "}\n",
       "</style>\n",
       "<table id=\"T_7573d\">\n",
       "  <thead>\n",
       "    <tr>\n",
       "      <th class=\"blank level0\" >&nbsp;</th>\n",
       "      <th id=\"T_7573d_level0_col0\" class=\"col_heading level0 col0\" >book_id</th>\n",
       "      <th id=\"T_7573d_level0_col1\" class=\"col_heading level0 col1\" >title</th>\n",
       "      <th id=\"T_7573d_level0_col2\" class=\"col_heading level0 col2\" >author</th>\n",
       "      <th id=\"T_7573d_level0_col3\" class=\"col_heading level0 col3\" >price</th>\n",
       "      <th id=\"T_7573d_level0_col4\" class=\"col_heading level0 col4\" >amount</th>\n",
       "    </tr>\n",
       "  </thead>\n",
       "  <tbody>\n",
       "    <tr>\n",
       "      <th id=\"T_7573d_level0_row0\" class=\"row_heading level0 row0\" >0</th>\n",
       "      <td id=\"T_7573d_row0_col0\" class=\"data row0 col0\" >1</td>\n",
       "      <td id=\"T_7573d_row0_col1\" class=\"data row0 col1\" >Мастер и Маргарита</td>\n",
       "      <td id=\"T_7573d_row0_col2\" class=\"data row0 col2\" >Булгаков М.А.</td>\n",
       "      <td id=\"T_7573d_row0_col3\" class=\"data row0 col3\" >670.990000</td>\n",
       "      <td id=\"T_7573d_row0_col4\" class=\"data row0 col4\" >3</td>\n",
       "    </tr>\n",
       "    <tr>\n",
       "      <th id=\"T_7573d_level0_row1\" class=\"row_heading level0 row1\" >1</th>\n",
       "      <td id=\"T_7573d_row1_col0\" class=\"data row1 col0\" >2</td>\n",
       "      <td id=\"T_7573d_row1_col1\" class=\"data row1 col1\" >Белая гвардия</td>\n",
       "      <td id=\"T_7573d_row1_col2\" class=\"data row1 col2\" >Булгаков М.А.</td>\n",
       "      <td id=\"T_7573d_row1_col3\" class=\"data row1 col3\" >540.500000</td>\n",
       "      <td id=\"T_7573d_row1_col4\" class=\"data row1 col4\" >5</td>\n",
       "    </tr>\n",
       "    <tr>\n",
       "      <th id=\"T_7573d_level0_row2\" class=\"row_heading level0 row2\" >2</th>\n",
       "      <td id=\"T_7573d_row2_col0\" class=\"data row2 col0\" >3</td>\n",
       "      <td id=\"T_7573d_row2_col1\" class=\"data row2 col1\" >Идиот</td>\n",
       "      <td id=\"T_7573d_row2_col2\" class=\"data row2 col2\" >Достоевский Ф.М.</td>\n",
       "      <td id=\"T_7573d_row2_col3\" class=\"data row2 col3\" >460.000000</td>\n",
       "      <td id=\"T_7573d_row2_col4\" class=\"data row2 col4\" >10</td>\n",
       "    </tr>\n",
       "    <tr>\n",
       "      <th id=\"T_7573d_level0_row3\" class=\"row_heading level0 row3\" >3</th>\n",
       "      <td id=\"T_7573d_row3_col0\" class=\"data row3 col0\" >4</td>\n",
       "      <td id=\"T_7573d_row3_col1\" class=\"data row3 col1\" >Братья Карамазовы</td>\n",
       "      <td id=\"T_7573d_row3_col2\" class=\"data row3 col2\" >Достоевский Ф.М.</td>\n",
       "      <td id=\"T_7573d_row3_col3\" class=\"data row3 col3\" >799.010000</td>\n",
       "      <td id=\"T_7573d_row3_col4\" class=\"data row3 col4\" >2</td>\n",
       "    </tr>\n",
       "  </tbody>\n",
       "</table>\n"
      ],
      "text/plain": [
       "<pandas.io.formats.style.Styler at 0x13faff610>"
      ]
     },
     "execution_count": 27,
     "metadata": {},
     "output_type": "execute_result"
    }
   ],
   "source": [
    "from sqlalchemy import create_engine\n",
    "import pandas.io.sql as psql\n",
    "\n",
    "engine = create_engine('postgresql+psycopg2://w9i@localhost/w9i')\n",
    "\n",
    "def read_sql_query(query):\n",
    "    with engine.connect() as connection:\n",
    "        result = psql.read_sql(query, connection).style.set_properties(**{'text-align': 'left'})\n",
    "        return result\n",
    "    \n",
    "read_sql_query('select * from book')"
   ]
  },
  {
   "cell_type": "markdown",
   "id": "91dba58a",
   "metadata": {},
   "source": [
    "# Задание\n",
    "### В конце года цену всех книг на складе пересчитывают – снижают ее на 30%. Написать SQL запрос, который из таблицы book выбирает названия, авторов, количества и вычисляет новые цены книг. Столбец с новой ценой назвать new_price, цену округлить до 2-х знаков после запятой."
   ]
  },
  {
   "cell_type": "code",
   "execution_count": 7,
   "id": "ec7d0d11",
   "metadata": {},
   "outputs": [
    {
     "data": {
      "text/html": [
       "<style type=\"text/css\">\n",
       "#T_ee76d_row0_col0, #T_ee76d_row0_col1, #T_ee76d_row0_col2, #T_ee76d_row0_col3, #T_ee76d_row1_col0, #T_ee76d_row1_col1, #T_ee76d_row1_col2, #T_ee76d_row1_col3, #T_ee76d_row2_col0, #T_ee76d_row2_col1, #T_ee76d_row2_col2, #T_ee76d_row2_col3, #T_ee76d_row3_col0, #T_ee76d_row3_col1, #T_ee76d_row3_col2, #T_ee76d_row3_col3 {\n",
       "  text-align: left;\n",
       "}\n",
       "</style>\n",
       "<table id=\"T_ee76d\">\n",
       "  <thead>\n",
       "    <tr>\n",
       "      <th class=\"blank level0\" >&nbsp;</th>\n",
       "      <th id=\"T_ee76d_level0_col0\" class=\"col_heading level0 col0\" >title</th>\n",
       "      <th id=\"T_ee76d_level0_col1\" class=\"col_heading level0 col1\" >author</th>\n",
       "      <th id=\"T_ee76d_level0_col2\" class=\"col_heading level0 col2\" >amount</th>\n",
       "      <th id=\"T_ee76d_level0_col3\" class=\"col_heading level0 col3\" >new_price</th>\n",
       "    </tr>\n",
       "  </thead>\n",
       "  <tbody>\n",
       "    <tr>\n",
       "      <th id=\"T_ee76d_level0_row0\" class=\"row_heading level0 row0\" >0</th>\n",
       "      <td id=\"T_ee76d_row0_col0\" class=\"data row0 col0\" >Мастер и Маргарита</td>\n",
       "      <td id=\"T_ee76d_row0_col1\" class=\"data row0 col1\" >Булгаков М.А.</td>\n",
       "      <td id=\"T_ee76d_row0_col2\" class=\"data row0 col2\" >3</td>\n",
       "      <td id=\"T_ee76d_row0_col3\" class=\"data row0 col3\" >469.690000</td>\n",
       "    </tr>\n",
       "    <tr>\n",
       "      <th id=\"T_ee76d_level0_row1\" class=\"row_heading level0 row1\" >1</th>\n",
       "      <td id=\"T_ee76d_row1_col0\" class=\"data row1 col0\" >Белая гвардия</td>\n",
       "      <td id=\"T_ee76d_row1_col1\" class=\"data row1 col1\" >Булгаков М.А.</td>\n",
       "      <td id=\"T_ee76d_row1_col2\" class=\"data row1 col2\" >5</td>\n",
       "      <td id=\"T_ee76d_row1_col3\" class=\"data row1 col3\" >378.350000</td>\n",
       "    </tr>\n",
       "    <tr>\n",
       "      <th id=\"T_ee76d_level0_row2\" class=\"row_heading level0 row2\" >2</th>\n",
       "      <td id=\"T_ee76d_row2_col0\" class=\"data row2 col0\" >Идиот</td>\n",
       "      <td id=\"T_ee76d_row2_col1\" class=\"data row2 col1\" >Достоевский Ф.М.</td>\n",
       "      <td id=\"T_ee76d_row2_col2\" class=\"data row2 col2\" >10</td>\n",
       "      <td id=\"T_ee76d_row2_col3\" class=\"data row2 col3\" >322.000000</td>\n",
       "    </tr>\n",
       "    <tr>\n",
       "      <th id=\"T_ee76d_level0_row3\" class=\"row_heading level0 row3\" >3</th>\n",
       "      <td id=\"T_ee76d_row3_col0\" class=\"data row3 col0\" >Братья Карамазовы</td>\n",
       "      <td id=\"T_ee76d_row3_col1\" class=\"data row3 col1\" >Достоевский Ф.М.</td>\n",
       "      <td id=\"T_ee76d_row3_col2\" class=\"data row3 col2\" >2</td>\n",
       "      <td id=\"T_ee76d_row3_col3\" class=\"data row3 col3\" >559.310000</td>\n",
       "    </tr>\n",
       "  </tbody>\n",
       "</table>\n"
      ],
      "text/plain": [
       "<pandas.io.formats.style.Styler at 0x13f8aa290>"
      ]
     },
     "execution_count": 7,
     "metadata": {},
     "output_type": "execute_result"
    }
   ],
   "source": [
    "read_sql_query(\"\"\"\n",
    "SELECT title, author, amount,\n",
    "    ROUND(price - (0.3 * price), 2) AS new_price\n",
    "FROM book\n",
    "\"\"\")"
   ]
  },
  {
   "cell_type": "markdown",
   "id": "8639dbb8",
   "metadata": {},
   "source": [
    "<h2>Выборка данных, вычисляемые столбцы, логические&nbsp;функции</h2>"
   ]
  },
  {
   "cell_type": "markdown",
   "id": "9bf19d4d",
   "metadata": {},
   "source": [
    "<p>В SQL реализована возможность заносить в поле значение в зависимости от условия. \n",
    "    Для этого используется функция <code>IF()</code>:</p>\n",
    "\n",
    "<code class=\"language-sql hljs\">IF(логическое_выражение, выражение_1, выражение_2)</code>\n",
    "\n",
    "<p>Функция вычисляет <code>логическое_выражение,</code> если оно истина – в поле заносится значение <code>выражения_1</code>, в противном случае –&nbsp; значение <code>выражения_2. </code>Все три параметра <code>IF() </code>являются обязательными.</p>\n",
    "\n",
    "<p>Допускается использование вложенных функций, вместо <code>выражения_1</code> или <code>выражения_2</code> может стоять новая функция <code><strong>IF</strong></code>.</p>\n",
    "\n",
    "<p><strong>Пример&nbsp;</strong></p>\n",
    "\n",
    "<p>Для каждой книги из таблицы <code><strong>book</strong></code>&nbsp;установим скидку следующим образом: если количество книг меньше 4, то скидка будет составлять 50% от цены, в противном случае 30%.</p>\n",
    "\n",
    "<p>В PostgreSQL вместо&nbsp;<code>IF</code>&nbsp; используют конструкцию&nbsp;<code>CASE ... WHEN ... THEN ... ELSE ... END</code>&nbsp;и <a href=\"https://www.postgresql.org/docs/12/functions-conditional.html\" rel=\"noopener noreferrer nofollow\" target=\"_blank\">некоторые другие</a>.</p>\n",
    "\n",
    "<code class=\"hljs ada\">...\n",
    "    <span class=\"hljs-keyword\">CASE</span>\n",
    "        <span class=\"hljs-keyword\">WHEN</span> author = <span class=\"hljs-symbol\">'Text</span> <span class=\"hljs-number\">1</span>' <span class=\"hljs-keyword\">THEN</span> price * <span class=\"hljs-number\">2</span>\n",
    "        <span class=\"hljs-keyword\">WHEN</span> author = <span class=\"hljs-symbol\">'Text</span> <span class=\"hljs-number\">2</span>' <span class=\"hljs-keyword\">THEN</span> price * <span class=\"hljs-number\">3</span>\n",
    "        <span class=\"hljs-keyword\">ELSE</span> price <span class=\"hljs-keyword\">END</span>\n",
    "...</code>"
   ]
  },
  {
   "cell_type": "code",
   "execution_count": 9,
   "id": "d8be4331",
   "metadata": {},
   "outputs": [
    {
     "data": {
      "text/html": [
       "<style type=\"text/css\">\n",
       "#T_5627f_row0_col0, #T_5627f_row0_col1, #T_5627f_row0_col2, #T_5627f_row0_col3, #T_5627f_row1_col0, #T_5627f_row1_col1, #T_5627f_row1_col2, #T_5627f_row1_col3, #T_5627f_row2_col0, #T_5627f_row2_col1, #T_5627f_row2_col2, #T_5627f_row2_col3, #T_5627f_row3_col0, #T_5627f_row3_col1, #T_5627f_row3_col2, #T_5627f_row3_col3 {\n",
       "  text-align: left;\n",
       "}\n",
       "</style>\n",
       "<table id=\"T_5627f\">\n",
       "  <thead>\n",
       "    <tr>\n",
       "      <th class=\"blank level0\" >&nbsp;</th>\n",
       "      <th id=\"T_5627f_level0_col0\" class=\"col_heading level0 col0\" >title</th>\n",
       "      <th id=\"T_5627f_level0_col1\" class=\"col_heading level0 col1\" >amount</th>\n",
       "      <th id=\"T_5627f_level0_col2\" class=\"col_heading level0 col2\" >price</th>\n",
       "      <th id=\"T_5627f_level0_col3\" class=\"col_heading level0 col3\" >sale</th>\n",
       "    </tr>\n",
       "  </thead>\n",
       "  <tbody>\n",
       "    <tr>\n",
       "      <th id=\"T_5627f_level0_row0\" class=\"row_heading level0 row0\" >0</th>\n",
       "      <td id=\"T_5627f_row0_col0\" class=\"data row0 col0\" >Мастер и Маргарита</td>\n",
       "      <td id=\"T_5627f_row0_col1\" class=\"data row0 col1\" >3</td>\n",
       "      <td id=\"T_5627f_row0_col2\" class=\"data row0 col2\" >670.990000</td>\n",
       "      <td id=\"T_5627f_row0_col3\" class=\"data row0 col3\" >335.500000</td>\n",
       "    </tr>\n",
       "    <tr>\n",
       "      <th id=\"T_5627f_level0_row1\" class=\"row_heading level0 row1\" >1</th>\n",
       "      <td id=\"T_5627f_row1_col0\" class=\"data row1 col0\" >Белая гвардия</td>\n",
       "      <td id=\"T_5627f_row1_col1\" class=\"data row1 col1\" >5</td>\n",
       "      <td id=\"T_5627f_row1_col2\" class=\"data row1 col2\" >540.500000</td>\n",
       "      <td id=\"T_5627f_row1_col3\" class=\"data row1 col3\" >378.350000</td>\n",
       "    </tr>\n",
       "    <tr>\n",
       "      <th id=\"T_5627f_level0_row2\" class=\"row_heading level0 row2\" >2</th>\n",
       "      <td id=\"T_5627f_row2_col0\" class=\"data row2 col0\" >Идиот</td>\n",
       "      <td id=\"T_5627f_row2_col1\" class=\"data row2 col1\" >10</td>\n",
       "      <td id=\"T_5627f_row2_col2\" class=\"data row2 col2\" >460.000000</td>\n",
       "      <td id=\"T_5627f_row2_col3\" class=\"data row2 col3\" >322.000000</td>\n",
       "    </tr>\n",
       "    <tr>\n",
       "      <th id=\"T_5627f_level0_row3\" class=\"row_heading level0 row3\" >3</th>\n",
       "      <td id=\"T_5627f_row3_col0\" class=\"data row3 col0\" >Братья Карамазовы</td>\n",
       "      <td id=\"T_5627f_row3_col1\" class=\"data row3 col1\" >2</td>\n",
       "      <td id=\"T_5627f_row3_col2\" class=\"data row3 col2\" >799.010000</td>\n",
       "      <td id=\"T_5627f_row3_col3\" class=\"data row3 col3\" >399.510000</td>\n",
       "    </tr>\n",
       "  </tbody>\n",
       "</table>\n"
      ],
      "text/plain": [
       "<pandas.io.formats.style.Styler at 0x13fdac950>"
      ]
     },
     "execution_count": 9,
     "metadata": {},
     "output_type": "execute_result"
    }
   ],
   "source": [
    "read_sql_query(\"\"\"\n",
    "SELECT title, amount, price, \n",
    "    ROUND(CASE\n",
    "        WHEN amount < 4 THEN price*0.5\n",
    "        ELSE price*0.7 END, 2) AS sale\n",
    "FROM book\n",
    "\"\"\")"
   ]
  },
  {
   "cell_type": "markdown",
   "id": "8a7edecb",
   "metadata": {},
   "source": [
    "<p><strong>Пример</strong></p>\n",
    "\n",
    "<p>Усложним вычисление скидки в зависимости от количества книг.&nbsp;Если количество книг меньше 4 – то скидка 50%, меньше 11&nbsp;– 30%, в остальных случаях – 10%. И еще укажем какая именно скидка на каждую книгу.</p>"
   ]
  },
  {
   "cell_type": "code",
   "execution_count": 30,
   "id": "36d7543a",
   "metadata": {},
   "outputs": [
    {
     "data": {
      "text/html": [
       "<style type=\"text/css\">\n",
       "#T_4ca5f_row0_col0, #T_4ca5f_row0_col1, #T_4ca5f_row0_col2, #T_4ca5f_row0_col3, #T_4ca5f_row0_col4, #T_4ca5f_row1_col0, #T_4ca5f_row1_col1, #T_4ca5f_row1_col2, #T_4ca5f_row1_col3, #T_4ca5f_row1_col4, #T_4ca5f_row2_col0, #T_4ca5f_row2_col1, #T_4ca5f_row2_col2, #T_4ca5f_row2_col3, #T_4ca5f_row2_col4, #T_4ca5f_row3_col0, #T_4ca5f_row3_col1, #T_4ca5f_row3_col2, #T_4ca5f_row3_col3, #T_4ca5f_row3_col4, #T_4ca5f_row4_col0, #T_4ca5f_row4_col1, #T_4ca5f_row4_col2, #T_4ca5f_row4_col3, #T_4ca5f_row4_col4 {\n",
       "  text-align: left;\n",
       "}\n",
       "</style>\n",
       "<table id=\"T_4ca5f\">\n",
       "  <thead>\n",
       "    <tr>\n",
       "      <th class=\"blank level0\" >&nbsp;</th>\n",
       "      <th id=\"T_4ca5f_level0_col0\" class=\"col_heading level0 col0\" >title</th>\n",
       "      <th id=\"T_4ca5f_level0_col1\" class=\"col_heading level0 col1\" >amount</th>\n",
       "      <th id=\"T_4ca5f_level0_col2\" class=\"col_heading level0 col2\" >price</th>\n",
       "      <th id=\"T_4ca5f_level0_col3\" class=\"col_heading level0 col3\" >sale</th>\n",
       "      <th id=\"T_4ca5f_level0_col4\" class=\"col_heading level0 col4\" >Ваша_скидка</th>\n",
       "    </tr>\n",
       "  </thead>\n",
       "  <tbody>\n",
       "    <tr>\n",
       "      <th id=\"T_4ca5f_level0_row0\" class=\"row_heading level0 row0\" >0</th>\n",
       "      <td id=\"T_4ca5f_row0_col0\" class=\"data row0 col0\" >Мастер и Маргарита</td>\n",
       "      <td id=\"T_4ca5f_row0_col1\" class=\"data row0 col1\" >3</td>\n",
       "      <td id=\"T_4ca5f_row0_col2\" class=\"data row0 col2\" >670.990000</td>\n",
       "      <td id=\"T_4ca5f_row0_col3\" class=\"data row0 col3\" >335.500000</td>\n",
       "      <td id=\"T_4ca5f_row0_col4\" class=\"data row0 col4\" >скидка 50%</td>\n",
       "    </tr>\n",
       "    <tr>\n",
       "      <th id=\"T_4ca5f_level0_row1\" class=\"row_heading level0 row1\" >1</th>\n",
       "      <td id=\"T_4ca5f_row1_col0\" class=\"data row1 col0\" >Белая гвардия</td>\n",
       "      <td id=\"T_4ca5f_row1_col1\" class=\"data row1 col1\" >5</td>\n",
       "      <td id=\"T_4ca5f_row1_col2\" class=\"data row1 col2\" >540.500000</td>\n",
       "      <td id=\"T_4ca5f_row1_col3\" class=\"data row1 col3\" >378.350000</td>\n",
       "      <td id=\"T_4ca5f_row1_col4\" class=\"data row1 col4\" >скидка 30%</td>\n",
       "    </tr>\n",
       "    <tr>\n",
       "      <th id=\"T_4ca5f_level0_row2\" class=\"row_heading level0 row2\" >2</th>\n",
       "      <td id=\"T_4ca5f_row2_col0\" class=\"data row2 col0\" >Идиот</td>\n",
       "      <td id=\"T_4ca5f_row2_col1\" class=\"data row2 col1\" >10</td>\n",
       "      <td id=\"T_4ca5f_row2_col2\" class=\"data row2 col2\" >460.000000</td>\n",
       "      <td id=\"T_4ca5f_row2_col3\" class=\"data row2 col3\" >322.000000</td>\n",
       "      <td id=\"T_4ca5f_row2_col4\" class=\"data row2 col4\" >скидка 30%</td>\n",
       "    </tr>\n",
       "    <tr>\n",
       "      <th id=\"T_4ca5f_level0_row3\" class=\"row_heading level0 row3\" >3</th>\n",
       "      <td id=\"T_4ca5f_row3_col0\" class=\"data row3 col0\" >Братья Карамазовы</td>\n",
       "      <td id=\"T_4ca5f_row3_col1\" class=\"data row3 col1\" >2</td>\n",
       "      <td id=\"T_4ca5f_row3_col2\" class=\"data row3 col2\" >799.010000</td>\n",
       "      <td id=\"T_4ca5f_row3_col3\" class=\"data row3 col3\" >399.510000</td>\n",
       "      <td id=\"T_4ca5f_row3_col4\" class=\"data row3 col4\" >скидка 50%</td>\n",
       "    </tr>\n",
       "    <tr>\n",
       "      <th id=\"T_4ca5f_level0_row4\" class=\"row_heading level0 row4\" >4</th>\n",
       "      <td id=\"T_4ca5f_row4_col0\" class=\"data row4 col0\" >Стихотворения и поэмы</td>\n",
       "      <td id=\"T_4ca5f_row4_col1\" class=\"data row4 col1\" >15</td>\n",
       "      <td id=\"T_4ca5f_row4_col2\" class=\"data row4 col2\" >650.000000</td>\n",
       "      <td id=\"T_4ca5f_row4_col3\" class=\"data row4 col3\" >585.000000</td>\n",
       "      <td id=\"T_4ca5f_row4_col4\" class=\"data row4 col4\" >скидка 10%</td>\n",
       "    </tr>\n",
       "  </tbody>\n",
       "</table>\n"
      ],
      "text/plain": [
       "<pandas.io.formats.style.Styler at 0x13f9e9690>"
      ]
     },
     "execution_count": 30,
     "metadata": {},
     "output_type": "execute_result"
    }
   ],
   "source": [
    "read_sql_query(\"\"\"\n",
    "SELECT title, amount, price,\n",
    "ROUND(\n",
    "    CASE\n",
    "        WHEN amount < 4 THEN price * 0.5\n",
    "        ELSE\n",
    "            CASE\n",
    "                WHEN amount < 11 THEN price * 0.7\n",
    "                ELSE price * 0.9\n",
    "                END\n",
    "        END\n",
    ",2) AS sale,\n",
    "CASE\n",
    "    WHEN amount<4 THEN 'скидка 50%%'\n",
    "    ELSE\n",
    "        CASE\n",
    "            WHEN amount < 11 THEN 'скидка 30%%'\n",
    "            ELSE 'скидка 10%%'\n",
    "            END\n",
    "    END AS Ваша_скидка\n",
    "FROM book\n",
    "\"\"\")"
   ]
  },
  {
   "cell_type": "markdown",
   "id": "1056e134",
   "metadata": {},
   "source": [
    "## Задание\n",
    "\n",
    "#### <p>При анализе продаж книг выяснилось, что наибольшей популярностью пользуются книги Михаила Булгакова, на втором месте книги Сергея Есенина. Исходя из этого решили поднять цену книг Булгакова на 10%, а цену книг Есенина - на 5%. Написать запрос, куда включить автора, название книги и новую цену, последний столбец назвать <code><strong>new_price</strong></code>. Значение округлить до двух знаков после запятой.</p>"
   ]
  },
  {
   "cell_type": "code",
   "execution_count": 37,
   "id": "da880869",
   "metadata": {},
   "outputs": [
    {
     "data": {
      "text/html": [
       "<style type=\"text/css\">\n",
       "#T_5729f_row0_col0, #T_5729f_row0_col1, #T_5729f_row0_col2, #T_5729f_row1_col0, #T_5729f_row1_col1, #T_5729f_row1_col2, #T_5729f_row2_col0, #T_5729f_row2_col1, #T_5729f_row2_col2, #T_5729f_row3_col0, #T_5729f_row3_col1, #T_5729f_row3_col2, #T_5729f_row4_col0, #T_5729f_row4_col1, #T_5729f_row4_col2 {\n",
       "  text-align: left;\n",
       "}\n",
       "</style>\n",
       "<table id=\"T_5729f\">\n",
       "  <thead>\n",
       "    <tr>\n",
       "      <th class=\"blank level0\" >&nbsp;</th>\n",
       "      <th id=\"T_5729f_level0_col0\" class=\"col_heading level0 col0\" >author</th>\n",
       "      <th id=\"T_5729f_level0_col1\" class=\"col_heading level0 col1\" >title</th>\n",
       "      <th id=\"T_5729f_level0_col2\" class=\"col_heading level0 col2\" >new_price</th>\n",
       "    </tr>\n",
       "  </thead>\n",
       "  <tbody>\n",
       "    <tr>\n",
       "      <th id=\"T_5729f_level0_row0\" class=\"row_heading level0 row0\" >0</th>\n",
       "      <td id=\"T_5729f_row0_col0\" class=\"data row0 col0\" >Булгаков М.А.</td>\n",
       "      <td id=\"T_5729f_row0_col1\" class=\"data row0 col1\" >Мастер и Маргарита</td>\n",
       "      <td id=\"T_5729f_row0_col2\" class=\"data row0 col2\" >738.090000</td>\n",
       "    </tr>\n",
       "    <tr>\n",
       "      <th id=\"T_5729f_level0_row1\" class=\"row_heading level0 row1\" >1</th>\n",
       "      <td id=\"T_5729f_row1_col0\" class=\"data row1 col0\" >Булгаков М.А.</td>\n",
       "      <td id=\"T_5729f_row1_col1\" class=\"data row1 col1\" >Белая гвардия</td>\n",
       "      <td id=\"T_5729f_row1_col2\" class=\"data row1 col2\" >594.550000</td>\n",
       "    </tr>\n",
       "    <tr>\n",
       "      <th id=\"T_5729f_level0_row2\" class=\"row_heading level0 row2\" >2</th>\n",
       "      <td id=\"T_5729f_row2_col0\" class=\"data row2 col0\" >Достоевский Ф.М.</td>\n",
       "      <td id=\"T_5729f_row2_col1\" class=\"data row2 col1\" >Идиот</td>\n",
       "      <td id=\"T_5729f_row2_col2\" class=\"data row2 col2\" >460.000000</td>\n",
       "    </tr>\n",
       "    <tr>\n",
       "      <th id=\"T_5729f_level0_row3\" class=\"row_heading level0 row3\" >3</th>\n",
       "      <td id=\"T_5729f_row3_col0\" class=\"data row3 col0\" >Достоевский Ф.М.</td>\n",
       "      <td id=\"T_5729f_row3_col1\" class=\"data row3 col1\" >Братья Карамазовы</td>\n",
       "      <td id=\"T_5729f_row3_col2\" class=\"data row3 col2\" >799.010000</td>\n",
       "    </tr>\n",
       "    <tr>\n",
       "      <th id=\"T_5729f_level0_row4\" class=\"row_heading level0 row4\" >4</th>\n",
       "      <td id=\"T_5729f_row4_col0\" class=\"data row4 col0\" >Есенин С.А.</td>\n",
       "      <td id=\"T_5729f_row4_col1\" class=\"data row4 col1\" >Стихотворения и поэмы</td>\n",
       "      <td id=\"T_5729f_row4_col2\" class=\"data row4 col2\" >682.500000</td>\n",
       "    </tr>\n",
       "  </tbody>\n",
       "</table>\n"
      ],
      "text/plain": [
       "<pandas.io.formats.style.Styler at 0x14a4ef790>"
      ]
     },
     "execution_count": 37,
     "metadata": {},
     "output_type": "execute_result"
    }
   ],
   "source": [
    "read_sql_query(\"\"\"\n",
    "SELECT author, title,\n",
    "ROUND(\n",
    "CASE\n",
    "    WHEN author = 'Булгаков М.А.' THEN (price*0.10) + price\n",
    "    WHEN author = 'Есенин С.А.' THEN (price*0.05) + price\n",
    "    ELSE price\n",
    "    END ,2) AS new_price\n",
    "FROM book\n",
    "\"\"\")"
   ]
  }
 ],
 "metadata": {
  "kernelspec": {
   "display_name": "Python 3 (ipykernel)",
   "language": "python",
   "name": "python3"
  },
  "language_info": {
   "codemirror_mode": {
    "name": "ipython",
    "version": 3
   },
   "file_extension": ".py",
   "mimetype": "text/x-python",
   "name": "python",
   "nbconvert_exporter": "python",
   "pygments_lexer": "ipython3",
   "version": "3.11.4"
  }
 },
 "nbformat": 4,
 "nbformat_minor": 5
}
