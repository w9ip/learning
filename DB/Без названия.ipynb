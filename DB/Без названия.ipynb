{
 "cells": [
  {
   "cell_type": "code",
   "execution_count": 2,
   "id": "2821476e",
   "metadata": {},
   "outputs": [
    {
     "data": {
      "text/html": [
       "<style type=\"text/css\">\n",
       "#T_b2af6_row0_col0, #T_b2af6_row0_col1, #T_b2af6_row0_col2, #T_b2af6_row0_col3, #T_b2af6_row0_col4, #T_b2af6_row1_col0, #T_b2af6_row1_col1, #T_b2af6_row1_col2, #T_b2af6_row1_col3, #T_b2af6_row1_col4, #T_b2af6_row2_col0, #T_b2af6_row2_col1, #T_b2af6_row2_col2, #T_b2af6_row2_col3, #T_b2af6_row2_col4, #T_b2af6_row3_col0, #T_b2af6_row3_col1, #T_b2af6_row3_col2, #T_b2af6_row3_col3, #T_b2af6_row3_col4, #T_b2af6_row4_col0, #T_b2af6_row4_col1, #T_b2af6_row4_col2, #T_b2af6_row4_col3, #T_b2af6_row4_col4 {\n",
       "  text-align: left;\n",
       "}\n",
       "</style>\n",
       "<table id=\"T_b2af6\">\n",
       "  <thead>\n",
       "    <tr>\n",
       "      <th class=\"blank level0\" >&nbsp;</th>\n",
       "      <th id=\"T_b2af6_level0_col0\" class=\"col_heading level0 col0\" >book_id</th>\n",
       "      <th id=\"T_b2af6_level0_col1\" class=\"col_heading level0 col1\" >title</th>\n",
       "      <th id=\"T_b2af6_level0_col2\" class=\"col_heading level0 col2\" >author</th>\n",
       "      <th id=\"T_b2af6_level0_col3\" class=\"col_heading level0 col3\" >price</th>\n",
       "      <th id=\"T_b2af6_level0_col4\" class=\"col_heading level0 col4\" >amount</th>\n",
       "    </tr>\n",
       "  </thead>\n",
       "  <tbody>\n",
       "    <tr>\n",
       "      <th id=\"T_b2af6_level0_row0\" class=\"row_heading level0 row0\" >0</th>\n",
       "      <td id=\"T_b2af6_row0_col0\" class=\"data row0 col0\" >1</td>\n",
       "      <td id=\"T_b2af6_row0_col1\" class=\"data row0 col1\" >Мастер и Маргарита</td>\n",
       "      <td id=\"T_b2af6_row0_col2\" class=\"data row0 col2\" >Булгаков М.А.</td>\n",
       "      <td id=\"T_b2af6_row0_col3\" class=\"data row0 col3\" >670.990000</td>\n",
       "      <td id=\"T_b2af6_row0_col4\" class=\"data row0 col4\" >3</td>\n",
       "    </tr>\n",
       "    <tr>\n",
       "      <th id=\"T_b2af6_level0_row1\" class=\"row_heading level0 row1\" >1</th>\n",
       "      <td id=\"T_b2af6_row1_col0\" class=\"data row1 col0\" >2</td>\n",
       "      <td id=\"T_b2af6_row1_col1\" class=\"data row1 col1\" >Белая гвардия</td>\n",
       "      <td id=\"T_b2af6_row1_col2\" class=\"data row1 col2\" >Булгаков М.А.</td>\n",
       "      <td id=\"T_b2af6_row1_col3\" class=\"data row1 col3\" >540.500000</td>\n",
       "      <td id=\"T_b2af6_row1_col4\" class=\"data row1 col4\" >5</td>\n",
       "    </tr>\n",
       "    <tr>\n",
       "      <th id=\"T_b2af6_level0_row2\" class=\"row_heading level0 row2\" >2</th>\n",
       "      <td id=\"T_b2af6_row2_col0\" class=\"data row2 col0\" >3</td>\n",
       "      <td id=\"T_b2af6_row2_col1\" class=\"data row2 col1\" >Идиот</td>\n",
       "      <td id=\"T_b2af6_row2_col2\" class=\"data row2 col2\" >Достоевский Ф.М.</td>\n",
       "      <td id=\"T_b2af6_row2_col3\" class=\"data row2 col3\" >460.000000</td>\n",
       "      <td id=\"T_b2af6_row2_col4\" class=\"data row2 col4\" >10</td>\n",
       "    </tr>\n",
       "    <tr>\n",
       "      <th id=\"T_b2af6_level0_row3\" class=\"row_heading level0 row3\" >3</th>\n",
       "      <td id=\"T_b2af6_row3_col0\" class=\"data row3 col0\" >4</td>\n",
       "      <td id=\"T_b2af6_row3_col1\" class=\"data row3 col1\" >Братья Карамазовы</td>\n",
       "      <td id=\"T_b2af6_row3_col2\" class=\"data row3 col2\" >Достоевский Ф.М.</td>\n",
       "      <td id=\"T_b2af6_row3_col3\" class=\"data row3 col3\" >799.010000</td>\n",
       "      <td id=\"T_b2af6_row3_col4\" class=\"data row3 col4\" >2</td>\n",
       "    </tr>\n",
       "    <tr>\n",
       "      <th id=\"T_b2af6_level0_row4\" class=\"row_heading level0 row4\" >4</th>\n",
       "      <td id=\"T_b2af6_row4_col0\" class=\"data row4 col0\" >6</td>\n",
       "      <td id=\"T_b2af6_row4_col1\" class=\"data row4 col1\" >Стихотворения и поэмы</td>\n",
       "      <td id=\"T_b2af6_row4_col2\" class=\"data row4 col2\" >Есенин С.А.</td>\n",
       "      <td id=\"T_b2af6_row4_col3\" class=\"data row4 col3\" >650.000000</td>\n",
       "      <td id=\"T_b2af6_row4_col4\" class=\"data row4 col4\" >15</td>\n",
       "    </tr>\n",
       "  </tbody>\n",
       "</table>\n"
      ],
      "text/plain": [
       "<pandas.io.formats.style.Styler at 0x111c3d1d0>"
      ]
     },
     "execution_count": 2,
     "metadata": {},
     "output_type": "execute_result"
    }
   ],
   "source": [
    "from sqlalchemy import create_engine\n",
    "import pandas.io.sql as psql\n",
    "\n",
    "engine = create_engine('postgresql+psycopg2://w9i@localhost/w9i')\n",
    "\n",
    "def read_sql_query(query):\n",
    "    with engine.connect() as connection:\n",
    "        result = psql.read_sql(query, connection).style.set_properties(**{'text-align': 'left'})\n",
    "        return result\n",
    "    \n",
    "read_sql_query('select * from book')"
   ]
  },
  {
   "cell_type": "markdown",
   "id": "91dba58a",
   "metadata": {},
   "source": [
    "# Задание\n",
    "### В конце года цену всех книг на складе пересчитывают – снижают ее на 30%. Написать SQL запрос, который из таблицы book выбирает названия, авторов, количества и вычисляет новые цены книг. Столбец с новой ценой назвать new_price, цену округлить до 2-х знаков после запятой."
   ]
  },
  {
   "cell_type": "code",
   "execution_count": 3,
   "id": "ec7d0d11",
   "metadata": {},
   "outputs": [
    {
     "data": {
      "text/html": [
       "<style type=\"text/css\">\n",
       "#T_8d341_row0_col0, #T_8d341_row0_col1, #T_8d341_row0_col2, #T_8d341_row0_col3, #T_8d341_row1_col0, #T_8d341_row1_col1, #T_8d341_row1_col2, #T_8d341_row1_col3, #T_8d341_row2_col0, #T_8d341_row2_col1, #T_8d341_row2_col2, #T_8d341_row2_col3, #T_8d341_row3_col0, #T_8d341_row3_col1, #T_8d341_row3_col2, #T_8d341_row3_col3, #T_8d341_row4_col0, #T_8d341_row4_col1, #T_8d341_row4_col2, #T_8d341_row4_col3 {\n",
       "  text-align: left;\n",
       "}\n",
       "</style>\n",
       "<table id=\"T_8d341\">\n",
       "  <thead>\n",
       "    <tr>\n",
       "      <th class=\"blank level0\" >&nbsp;</th>\n",
       "      <th id=\"T_8d341_level0_col0\" class=\"col_heading level0 col0\" >title</th>\n",
       "      <th id=\"T_8d341_level0_col1\" class=\"col_heading level0 col1\" >author</th>\n",
       "      <th id=\"T_8d341_level0_col2\" class=\"col_heading level0 col2\" >amount</th>\n",
       "      <th id=\"T_8d341_level0_col3\" class=\"col_heading level0 col3\" >new_price</th>\n",
       "    </tr>\n",
       "  </thead>\n",
       "  <tbody>\n",
       "    <tr>\n",
       "      <th id=\"T_8d341_level0_row0\" class=\"row_heading level0 row0\" >0</th>\n",
       "      <td id=\"T_8d341_row0_col0\" class=\"data row0 col0\" >Мастер и Маргарита</td>\n",
       "      <td id=\"T_8d341_row0_col1\" class=\"data row0 col1\" >Булгаков М.А.</td>\n",
       "      <td id=\"T_8d341_row0_col2\" class=\"data row0 col2\" >3</td>\n",
       "      <td id=\"T_8d341_row0_col3\" class=\"data row0 col3\" >469.690000</td>\n",
       "    </tr>\n",
       "    <tr>\n",
       "      <th id=\"T_8d341_level0_row1\" class=\"row_heading level0 row1\" >1</th>\n",
       "      <td id=\"T_8d341_row1_col0\" class=\"data row1 col0\" >Белая гвардия</td>\n",
       "      <td id=\"T_8d341_row1_col1\" class=\"data row1 col1\" >Булгаков М.А.</td>\n",
       "      <td id=\"T_8d341_row1_col2\" class=\"data row1 col2\" >5</td>\n",
       "      <td id=\"T_8d341_row1_col3\" class=\"data row1 col3\" >378.350000</td>\n",
       "    </tr>\n",
       "    <tr>\n",
       "      <th id=\"T_8d341_level0_row2\" class=\"row_heading level0 row2\" >2</th>\n",
       "      <td id=\"T_8d341_row2_col0\" class=\"data row2 col0\" >Идиот</td>\n",
       "      <td id=\"T_8d341_row2_col1\" class=\"data row2 col1\" >Достоевский Ф.М.</td>\n",
       "      <td id=\"T_8d341_row2_col2\" class=\"data row2 col2\" >10</td>\n",
       "      <td id=\"T_8d341_row2_col3\" class=\"data row2 col3\" >322.000000</td>\n",
       "    </tr>\n",
       "    <tr>\n",
       "      <th id=\"T_8d341_level0_row3\" class=\"row_heading level0 row3\" >3</th>\n",
       "      <td id=\"T_8d341_row3_col0\" class=\"data row3 col0\" >Братья Карамазовы</td>\n",
       "      <td id=\"T_8d341_row3_col1\" class=\"data row3 col1\" >Достоевский Ф.М.</td>\n",
       "      <td id=\"T_8d341_row3_col2\" class=\"data row3 col2\" >2</td>\n",
       "      <td id=\"T_8d341_row3_col3\" class=\"data row3 col3\" >559.310000</td>\n",
       "    </tr>\n",
       "    <tr>\n",
       "      <th id=\"T_8d341_level0_row4\" class=\"row_heading level0 row4\" >4</th>\n",
       "      <td id=\"T_8d341_row4_col0\" class=\"data row4 col0\" >Стихотворения и поэмы</td>\n",
       "      <td id=\"T_8d341_row4_col1\" class=\"data row4 col1\" >Есенин С.А.</td>\n",
       "      <td id=\"T_8d341_row4_col2\" class=\"data row4 col2\" >15</td>\n",
       "      <td id=\"T_8d341_row4_col3\" class=\"data row4 col3\" >455.000000</td>\n",
       "    </tr>\n",
       "  </tbody>\n",
       "</table>\n"
      ],
      "text/plain": [
       "<pandas.io.formats.style.Styler at 0x110ca9950>"
      ]
     },
     "execution_count": 3,
     "metadata": {},
     "output_type": "execute_result"
    }
   ],
   "source": [
    "read_sql_query(\"\"\"\n",
    "SELECT title, author, amount,\n",
    "    ROUND(price - (0.3 * price), 2) AS new_price\n",
    "FROM book\n",
    "\"\"\")"
   ]
  },
  {
   "cell_type": "markdown",
   "id": "8639dbb8",
   "metadata": {},
   "source": [
    "<h2>Выборка данных, вычисляемые столбцы, логические&nbsp;функции</h2>"
   ]
  },
  {
   "cell_type": "markdown",
   "id": "9bf19d4d",
   "metadata": {},
   "source": [
    "<p>В SQL реализована возможность заносить в поле значение в зависимости от условия. \n",
    "    Для этого используется функция <code>IF()</code>:</p>\n",
    "\n",
    "<code class=\"language-sql hljs\">IF(логическое_выражение, выражение_1, выражение_2)</code>\n",
    "\n",
    "<p>Функция вычисляет <code>логическое_выражение,</code> если оно истина – в поле заносится значение <code>выражения_1</code>, в противном случае –&nbsp; значение <code>выражения_2. </code>Все три параметра <code>IF() </code>являются обязательными.</p>\n",
    "\n",
    "<p>Допускается использование вложенных функций, вместо <code>выражения_1</code> или <code>выражения_2</code> может стоять новая функция <code><strong>IF</strong></code>.</p>\n",
    "\n",
    "<p><strong>Пример&nbsp;</strong></p>\n",
    "\n",
    "<p>Для каждой книги из таблицы <code><strong>book</strong></code>&nbsp;установим скидку следующим образом: если количество книг меньше 4, то скидка будет составлять 50% от цены, в противном случае 30%.</p>\n",
    "\n",
    "<p>В PostgreSQL вместо&nbsp;<code>IF</code>&nbsp; используют конструкцию&nbsp;<code>CASE ... WHEN ... THEN ... ELSE ... END</code>&nbsp;и <a href=\"https://www.postgresql.org/docs/12/functions-conditional.html\" rel=\"noopener noreferrer nofollow\" target=\"_blank\">некоторые другие</a>.</p>\n",
    "\n",
    "<code class=\"hljs ada\">...\n",
    "    <span class=\"hljs-keyword\">CASE</span>\n",
    "        <span class=\"hljs-keyword\">WHEN</span> author = <span class=\"hljs-symbol\">'Text</span> <span class=\"hljs-number\">1</span>' <span class=\"hljs-keyword\">THEN</span> price * <span class=\"hljs-number\">2</span>\n",
    "        <span class=\"hljs-keyword\">WHEN</span> author = <span class=\"hljs-symbol\">'Text</span> <span class=\"hljs-number\">2</span>' <span class=\"hljs-keyword\">THEN</span> price * <span class=\"hljs-number\">3</span>\n",
    "        <span class=\"hljs-keyword\">ELSE</span> price <span class=\"hljs-keyword\">END</span>\n",
    "...</code>"
   ]
  },
  {
   "cell_type": "code",
   "execution_count": 4,
   "id": "d8be4331",
   "metadata": {},
   "outputs": [
    {
     "data": {
      "text/html": [
       "<style type=\"text/css\">\n",
       "#T_f21d6_row0_col0, #T_f21d6_row0_col1, #T_f21d6_row0_col2, #T_f21d6_row0_col3, #T_f21d6_row1_col0, #T_f21d6_row1_col1, #T_f21d6_row1_col2, #T_f21d6_row1_col3, #T_f21d6_row2_col0, #T_f21d6_row2_col1, #T_f21d6_row2_col2, #T_f21d6_row2_col3, #T_f21d6_row3_col0, #T_f21d6_row3_col1, #T_f21d6_row3_col2, #T_f21d6_row3_col3, #T_f21d6_row4_col0, #T_f21d6_row4_col1, #T_f21d6_row4_col2, #T_f21d6_row4_col3 {\n",
       "  text-align: left;\n",
       "}\n",
       "</style>\n",
       "<table id=\"T_f21d6\">\n",
       "  <thead>\n",
       "    <tr>\n",
       "      <th class=\"blank level0\" >&nbsp;</th>\n",
       "      <th id=\"T_f21d6_level0_col0\" class=\"col_heading level0 col0\" >title</th>\n",
       "      <th id=\"T_f21d6_level0_col1\" class=\"col_heading level0 col1\" >amount</th>\n",
       "      <th id=\"T_f21d6_level0_col2\" class=\"col_heading level0 col2\" >price</th>\n",
       "      <th id=\"T_f21d6_level0_col3\" class=\"col_heading level0 col3\" >sale</th>\n",
       "    </tr>\n",
       "  </thead>\n",
       "  <tbody>\n",
       "    <tr>\n",
       "      <th id=\"T_f21d6_level0_row0\" class=\"row_heading level0 row0\" >0</th>\n",
       "      <td id=\"T_f21d6_row0_col0\" class=\"data row0 col0\" >Мастер и Маргарита</td>\n",
       "      <td id=\"T_f21d6_row0_col1\" class=\"data row0 col1\" >3</td>\n",
       "      <td id=\"T_f21d6_row0_col2\" class=\"data row0 col2\" >670.990000</td>\n",
       "      <td id=\"T_f21d6_row0_col3\" class=\"data row0 col3\" >335.500000</td>\n",
       "    </tr>\n",
       "    <tr>\n",
       "      <th id=\"T_f21d6_level0_row1\" class=\"row_heading level0 row1\" >1</th>\n",
       "      <td id=\"T_f21d6_row1_col0\" class=\"data row1 col0\" >Белая гвардия</td>\n",
       "      <td id=\"T_f21d6_row1_col1\" class=\"data row1 col1\" >5</td>\n",
       "      <td id=\"T_f21d6_row1_col2\" class=\"data row1 col2\" >540.500000</td>\n",
       "      <td id=\"T_f21d6_row1_col3\" class=\"data row1 col3\" >378.350000</td>\n",
       "    </tr>\n",
       "    <tr>\n",
       "      <th id=\"T_f21d6_level0_row2\" class=\"row_heading level0 row2\" >2</th>\n",
       "      <td id=\"T_f21d6_row2_col0\" class=\"data row2 col0\" >Идиот</td>\n",
       "      <td id=\"T_f21d6_row2_col1\" class=\"data row2 col1\" >10</td>\n",
       "      <td id=\"T_f21d6_row2_col2\" class=\"data row2 col2\" >460.000000</td>\n",
       "      <td id=\"T_f21d6_row2_col3\" class=\"data row2 col3\" >322.000000</td>\n",
       "    </tr>\n",
       "    <tr>\n",
       "      <th id=\"T_f21d6_level0_row3\" class=\"row_heading level0 row3\" >3</th>\n",
       "      <td id=\"T_f21d6_row3_col0\" class=\"data row3 col0\" >Братья Карамазовы</td>\n",
       "      <td id=\"T_f21d6_row3_col1\" class=\"data row3 col1\" >2</td>\n",
       "      <td id=\"T_f21d6_row3_col2\" class=\"data row3 col2\" >799.010000</td>\n",
       "      <td id=\"T_f21d6_row3_col3\" class=\"data row3 col3\" >399.510000</td>\n",
       "    </tr>\n",
       "    <tr>\n",
       "      <th id=\"T_f21d6_level0_row4\" class=\"row_heading level0 row4\" >4</th>\n",
       "      <td id=\"T_f21d6_row4_col0\" class=\"data row4 col0\" >Стихотворения и поэмы</td>\n",
       "      <td id=\"T_f21d6_row4_col1\" class=\"data row4 col1\" >15</td>\n",
       "      <td id=\"T_f21d6_row4_col2\" class=\"data row4 col2\" >650.000000</td>\n",
       "      <td id=\"T_f21d6_row4_col3\" class=\"data row4 col3\" >455.000000</td>\n",
       "    </tr>\n",
       "  </tbody>\n",
       "</table>\n"
      ],
      "text/plain": [
       "<pandas.io.formats.style.Styler at 0x110d3eed0>"
      ]
     },
     "execution_count": 4,
     "metadata": {},
     "output_type": "execute_result"
    }
   ],
   "source": [
    "read_sql_query(\"\"\"\n",
    "SELECT title, amount, price, \n",
    "    ROUND(CASE\n",
    "        WHEN amount < 4 THEN price*0.5\n",
    "        ELSE price*0.7 END, 2) AS sale\n",
    "FROM book\n",
    "\"\"\")"
   ]
  },
  {
   "cell_type": "markdown",
   "id": "8a7edecb",
   "metadata": {},
   "source": [
    "<p><strong>Пример</strong></p>\n",
    "\n",
    "<p>Усложним вычисление скидки в зависимости от количества книг.&nbsp;Если количество книг меньше 4 – то скидка 50%, меньше 11&nbsp;– 30%, в остальных случаях – 10%. И еще укажем какая именно скидка на каждую книгу.</p>"
   ]
  },
  {
   "cell_type": "code",
   "execution_count": 5,
   "id": "a99aa568",
   "metadata": {},
   "outputs": [
    {
     "data": {
      "text/html": [
       "<style type=\"text/css\">\n",
       "#T_63dbc_row0_col0, #T_63dbc_row0_col1, #T_63dbc_row0_col2, #T_63dbc_row0_col3, #T_63dbc_row0_col4, #T_63dbc_row1_col0, #T_63dbc_row1_col1, #T_63dbc_row1_col2, #T_63dbc_row1_col3, #T_63dbc_row1_col4, #T_63dbc_row2_col0, #T_63dbc_row2_col1, #T_63dbc_row2_col2, #T_63dbc_row2_col3, #T_63dbc_row2_col4, #T_63dbc_row3_col0, #T_63dbc_row3_col1, #T_63dbc_row3_col2, #T_63dbc_row3_col3, #T_63dbc_row3_col4, #T_63dbc_row4_col0, #T_63dbc_row4_col1, #T_63dbc_row4_col2, #T_63dbc_row4_col3, #T_63dbc_row4_col4 {\n",
       "  text-align: left;\n",
       "}\n",
       "</style>\n",
       "<table id=\"T_63dbc\">\n",
       "  <thead>\n",
       "    <tr>\n",
       "      <th class=\"blank level0\" >&nbsp;</th>\n",
       "      <th id=\"T_63dbc_level0_col0\" class=\"col_heading level0 col0\" >title</th>\n",
       "      <th id=\"T_63dbc_level0_col1\" class=\"col_heading level0 col1\" >amount</th>\n",
       "      <th id=\"T_63dbc_level0_col2\" class=\"col_heading level0 col2\" >price</th>\n",
       "      <th id=\"T_63dbc_level0_col3\" class=\"col_heading level0 col3\" >sale</th>\n",
       "      <th id=\"T_63dbc_level0_col4\" class=\"col_heading level0 col4\" >Ваша_скидка</th>\n",
       "    </tr>\n",
       "  </thead>\n",
       "  <tbody>\n",
       "    <tr>\n",
       "      <th id=\"T_63dbc_level0_row0\" class=\"row_heading level0 row0\" >0</th>\n",
       "      <td id=\"T_63dbc_row0_col0\" class=\"data row0 col0\" >Мастер и Маргарита</td>\n",
       "      <td id=\"T_63dbc_row0_col1\" class=\"data row0 col1\" >3</td>\n",
       "      <td id=\"T_63dbc_row0_col2\" class=\"data row0 col2\" >670.990000</td>\n",
       "      <td id=\"T_63dbc_row0_col3\" class=\"data row0 col3\" >335.500000</td>\n",
       "      <td id=\"T_63dbc_row0_col4\" class=\"data row0 col4\" >скидка 50%</td>\n",
       "    </tr>\n",
       "    <tr>\n",
       "      <th id=\"T_63dbc_level0_row1\" class=\"row_heading level0 row1\" >1</th>\n",
       "      <td id=\"T_63dbc_row1_col0\" class=\"data row1 col0\" >Белая гвардия</td>\n",
       "      <td id=\"T_63dbc_row1_col1\" class=\"data row1 col1\" >5</td>\n",
       "      <td id=\"T_63dbc_row1_col2\" class=\"data row1 col2\" >540.500000</td>\n",
       "      <td id=\"T_63dbc_row1_col3\" class=\"data row1 col3\" >378.350000</td>\n",
       "      <td id=\"T_63dbc_row1_col4\" class=\"data row1 col4\" >скидка 30%</td>\n",
       "    </tr>\n",
       "    <tr>\n",
       "      <th id=\"T_63dbc_level0_row2\" class=\"row_heading level0 row2\" >2</th>\n",
       "      <td id=\"T_63dbc_row2_col0\" class=\"data row2 col0\" >Идиот</td>\n",
       "      <td id=\"T_63dbc_row2_col1\" class=\"data row2 col1\" >10</td>\n",
       "      <td id=\"T_63dbc_row2_col2\" class=\"data row2 col2\" >460.000000</td>\n",
       "      <td id=\"T_63dbc_row2_col3\" class=\"data row2 col3\" >322.000000</td>\n",
       "      <td id=\"T_63dbc_row2_col4\" class=\"data row2 col4\" >скидка 30%</td>\n",
       "    </tr>\n",
       "    <tr>\n",
       "      <th id=\"T_63dbc_level0_row3\" class=\"row_heading level0 row3\" >3</th>\n",
       "      <td id=\"T_63dbc_row3_col0\" class=\"data row3 col0\" >Братья Карамазовы</td>\n",
       "      <td id=\"T_63dbc_row3_col1\" class=\"data row3 col1\" >2</td>\n",
       "      <td id=\"T_63dbc_row3_col2\" class=\"data row3 col2\" >799.010000</td>\n",
       "      <td id=\"T_63dbc_row3_col3\" class=\"data row3 col3\" >399.510000</td>\n",
       "      <td id=\"T_63dbc_row3_col4\" class=\"data row3 col4\" >скидка 50%</td>\n",
       "    </tr>\n",
       "    <tr>\n",
       "      <th id=\"T_63dbc_level0_row4\" class=\"row_heading level0 row4\" >4</th>\n",
       "      <td id=\"T_63dbc_row4_col0\" class=\"data row4 col0\" >Стихотворения и поэмы</td>\n",
       "      <td id=\"T_63dbc_row4_col1\" class=\"data row4 col1\" >15</td>\n",
       "      <td id=\"T_63dbc_row4_col2\" class=\"data row4 col2\" >650.000000</td>\n",
       "      <td id=\"T_63dbc_row4_col3\" class=\"data row4 col3\" >585.000000</td>\n",
       "      <td id=\"T_63dbc_row4_col4\" class=\"data row4 col4\" >скидка 10%</td>\n",
       "    </tr>\n",
       "  </tbody>\n",
       "</table>\n"
      ],
      "text/plain": [
       "<pandas.io.formats.style.Styler at 0x126b8ea90>"
      ]
     },
     "execution_count": 5,
     "metadata": {},
     "output_type": "execute_result"
    }
   ],
   "source": [
    "read_sql_query(\"\"\"\n",
    "SELECT title, amount, price,\n",
    "ROUND(\n",
    "    CASE\n",
    "        WHEN amount < 4 THEN price * 0.5\n",
    "        ELSE\n",
    "            CASE\n",
    "                WHEN amount < 11 THEN price * 0.7\n",
    "                ELSE price * 0.9\n",
    "                END\n",
    "        END\n",
    ",2) AS sale,\n",
    "CASE\n",
    "    WHEN amount<4 THEN 'скидка 50%%'\n",
    "    ELSE\n",
    "        CASE\n",
    "            WHEN amount < 11 THEN 'скидка 30%%'\n",
    "            ELSE 'скидка 10%%'\n",
    "            END\n",
    "    END AS Ваша_скидка\n",
    "FROM book\n",
    "\"\"\")"
   ]
  },
  {
   "cell_type": "markdown",
   "id": "4ec51210",
   "metadata": {},
   "source": [
    "## Задание\n",
    "\n",
    "#### <p>При анализе продаж книг выяснилось, что наибольшей популярностью пользуются книги Михаила Булгакова, на втором месте книги Сергея Есенина. Исходя из этого решили поднять цену книг Булгакова на 10%, а цену книг Есенина - на 5%. Написать запрос, куда включить автора, название книги и новую цену, последний столбец назвать <code><strong>new_price</strong></code>. Значение округлить до двух знаков после запятой.</p>"
   ]
  },
  {
   "cell_type": "code",
   "execution_count": 6,
   "id": "168809a6",
   "metadata": {},
   "outputs": [
    {
     "data": {
      "text/html": [
       "<style type=\"text/css\">\n",
       "#T_a0816_row0_col0, #T_a0816_row0_col1, #T_a0816_row0_col2, #T_a0816_row1_col0, #T_a0816_row1_col1, #T_a0816_row1_col2, #T_a0816_row2_col0, #T_a0816_row2_col1, #T_a0816_row2_col2, #T_a0816_row3_col0, #T_a0816_row3_col1, #T_a0816_row3_col2, #T_a0816_row4_col0, #T_a0816_row4_col1, #T_a0816_row4_col2 {\n",
       "  text-align: left;\n",
       "}\n",
       "</style>\n",
       "<table id=\"T_a0816\">\n",
       "  <thead>\n",
       "    <tr>\n",
       "      <th class=\"blank level0\" >&nbsp;</th>\n",
       "      <th id=\"T_a0816_level0_col0\" class=\"col_heading level0 col0\" >author</th>\n",
       "      <th id=\"T_a0816_level0_col1\" class=\"col_heading level0 col1\" >title</th>\n",
       "      <th id=\"T_a0816_level0_col2\" class=\"col_heading level0 col2\" >new_price</th>\n",
       "    </tr>\n",
       "  </thead>\n",
       "  <tbody>\n",
       "    <tr>\n",
       "      <th id=\"T_a0816_level0_row0\" class=\"row_heading level0 row0\" >0</th>\n",
       "      <td id=\"T_a0816_row0_col0\" class=\"data row0 col0\" >Булгаков М.А.</td>\n",
       "      <td id=\"T_a0816_row0_col1\" class=\"data row0 col1\" >Мастер и Маргарита</td>\n",
       "      <td id=\"T_a0816_row0_col2\" class=\"data row0 col2\" >738.090000</td>\n",
       "    </tr>\n",
       "    <tr>\n",
       "      <th id=\"T_a0816_level0_row1\" class=\"row_heading level0 row1\" >1</th>\n",
       "      <td id=\"T_a0816_row1_col0\" class=\"data row1 col0\" >Булгаков М.А.</td>\n",
       "      <td id=\"T_a0816_row1_col1\" class=\"data row1 col1\" >Белая гвардия</td>\n",
       "      <td id=\"T_a0816_row1_col2\" class=\"data row1 col2\" >594.550000</td>\n",
       "    </tr>\n",
       "    <tr>\n",
       "      <th id=\"T_a0816_level0_row2\" class=\"row_heading level0 row2\" >2</th>\n",
       "      <td id=\"T_a0816_row2_col0\" class=\"data row2 col0\" >Достоевский Ф.М.</td>\n",
       "      <td id=\"T_a0816_row2_col1\" class=\"data row2 col1\" >Идиот</td>\n",
       "      <td id=\"T_a0816_row2_col2\" class=\"data row2 col2\" >460.000000</td>\n",
       "    </tr>\n",
       "    <tr>\n",
       "      <th id=\"T_a0816_level0_row3\" class=\"row_heading level0 row3\" >3</th>\n",
       "      <td id=\"T_a0816_row3_col0\" class=\"data row3 col0\" >Достоевский Ф.М.</td>\n",
       "      <td id=\"T_a0816_row3_col1\" class=\"data row3 col1\" >Братья Карамазовы</td>\n",
       "      <td id=\"T_a0816_row3_col2\" class=\"data row3 col2\" >799.010000</td>\n",
       "    </tr>\n",
       "    <tr>\n",
       "      <th id=\"T_a0816_level0_row4\" class=\"row_heading level0 row4\" >4</th>\n",
       "      <td id=\"T_a0816_row4_col0\" class=\"data row4 col0\" >Есенин С.А.</td>\n",
       "      <td id=\"T_a0816_row4_col1\" class=\"data row4 col1\" >Стихотворения и поэмы</td>\n",
       "      <td id=\"T_a0816_row4_col2\" class=\"data row4 col2\" >682.500000</td>\n",
       "    </tr>\n",
       "  </tbody>\n",
       "</table>\n"
      ],
      "text/plain": [
       "<pandas.io.formats.style.Styler at 0x111c2d0d0>"
      ]
     },
     "execution_count": 6,
     "metadata": {},
     "output_type": "execute_result"
    }
   ],
   "source": [
    "read_sql_query(\"\"\"\n",
    "SELECT author, title,\n",
    "ROUND(\n",
    "CASE\n",
    "    WHEN author = 'Булгаков М.А.' THEN (price*0.10) + price\n",
    "    WHEN author = 'Есенин С.А.' THEN (price*0.05) + price\n",
    "    ELSE price\n",
    "    END ,2) AS new_price\n",
    "FROM book\n",
    "\"\"\")"
   ]
  },
  {
   "cell_type": "markdown",
   "id": "f8269125",
   "metadata": {},
   "source": [
    "## Выборка данных по усовию\n",
    "<p>С помощью запросов можно включать в итоговую выборку не все строки исходной таблицы, а только те, которые отвечают некоторому условию. Для этого после указания таблицы, откуда выбираются данные, задается ключевое слово <code>WHERE</code> и логическое выражение, от результата которого зависит будет ли включена строка в выборку или нет. Если условие – истина, то строка(запись) &nbsp;включается в выборку, если ложь – нет.</p>\n",
    "\n",
    "<p>Логическое выражение может включать <strong>операторы сравнения&nbsp;</strong>(равно «<strong>=</strong>», не равно «<strong>&lt;&gt;</strong>», больше «<strong>&gt;</strong>», меньше «<strong>&lt;</strong>», больше или равно«<strong>&gt;=</strong>», меньше или равно «<strong>&lt;=</strong>») и выражения, допустимые в SQL.</p>\n",
    "\n",
    "### Пример\n",
    "\n",
    "<p>Вывести название и цену тех книг, цены которых меньше 600 рублей.</p>"
   ]
  },
  {
   "cell_type": "code",
   "execution_count": 7,
   "id": "fd4462f2",
   "metadata": {},
   "outputs": [
    {
     "data": {
      "text/html": [
       "<style type=\"text/css\">\n",
       "#T_326ee_row0_col0, #T_326ee_row0_col1, #T_326ee_row1_col0, #T_326ee_row1_col1 {\n",
       "  text-align: left;\n",
       "}\n",
       "</style>\n",
       "<table id=\"T_326ee\">\n",
       "  <thead>\n",
       "    <tr>\n",
       "      <th class=\"blank level0\" >&nbsp;</th>\n",
       "      <th id=\"T_326ee_level0_col0\" class=\"col_heading level0 col0\" >title</th>\n",
       "      <th id=\"T_326ee_level0_col1\" class=\"col_heading level0 col1\" >price</th>\n",
       "    </tr>\n",
       "  </thead>\n",
       "  <tbody>\n",
       "    <tr>\n",
       "      <th id=\"T_326ee_level0_row0\" class=\"row_heading level0 row0\" >0</th>\n",
       "      <td id=\"T_326ee_row0_col0\" class=\"data row0 col0\" >Белая гвардия</td>\n",
       "      <td id=\"T_326ee_row0_col1\" class=\"data row0 col1\" >540.500000</td>\n",
       "    </tr>\n",
       "    <tr>\n",
       "      <th id=\"T_326ee_level0_row1\" class=\"row_heading level0 row1\" >1</th>\n",
       "      <td id=\"T_326ee_row1_col0\" class=\"data row1 col0\" >Идиот</td>\n",
       "      <td id=\"T_326ee_row1_col1\" class=\"data row1 col1\" >460.000000</td>\n",
       "    </tr>\n",
       "  </tbody>\n",
       "</table>\n"
      ],
      "text/plain": [
       "<pandas.io.formats.style.Styler at 0x136f99050>"
      ]
     },
     "execution_count": 7,
     "metadata": {},
     "output_type": "execute_result"
    }
   ],
   "source": [
    "read_sql_query(\"\"\"\n",
    "SELECT title, price\n",
    "FROM book\n",
    "WHERE price < 600\n",
    "\"\"\")"
   ]
  },
  {
   "cell_type": "markdown",
   "id": "6be66bac",
   "metadata": {},
   "source": [
    "### Пример\n",
    "\n",
    "<p>Вывести название, автора&nbsp; и стоимость (цена умножить на количество) тех книг, стоимость которых&nbsp;больше 4000 рублей</p>"
   ]
  },
  {
   "cell_type": "code",
   "execution_count": 8,
   "id": "a703b07a",
   "metadata": {},
   "outputs": [
    {
     "data": {
      "text/html": [
       "<style type=\"text/css\">\n",
       "#T_2f439_row0_col0, #T_2f439_row0_col1, #T_2f439_row0_col2, #T_2f439_row1_col0, #T_2f439_row1_col1, #T_2f439_row1_col2 {\n",
       "  text-align: left;\n",
       "}\n",
       "</style>\n",
       "<table id=\"T_2f439\">\n",
       "  <thead>\n",
       "    <tr>\n",
       "      <th class=\"blank level0\" >&nbsp;</th>\n",
       "      <th id=\"T_2f439_level0_col0\" class=\"col_heading level0 col0\" >title</th>\n",
       "      <th id=\"T_2f439_level0_col1\" class=\"col_heading level0 col1\" >author</th>\n",
       "      <th id=\"T_2f439_level0_col2\" class=\"col_heading level0 col2\" >total</th>\n",
       "    </tr>\n",
       "  </thead>\n",
       "  <tbody>\n",
       "    <tr>\n",
       "      <th id=\"T_2f439_level0_row0\" class=\"row_heading level0 row0\" >0</th>\n",
       "      <td id=\"T_2f439_row0_col0\" class=\"data row0 col0\" >Идиот</td>\n",
       "      <td id=\"T_2f439_row0_col1\" class=\"data row0 col1\" >Достоевский Ф.М.</td>\n",
       "      <td id=\"T_2f439_row0_col2\" class=\"data row0 col2\" >4600.000000</td>\n",
       "    </tr>\n",
       "    <tr>\n",
       "      <th id=\"T_2f439_level0_row1\" class=\"row_heading level0 row1\" >1</th>\n",
       "      <td id=\"T_2f439_row1_col0\" class=\"data row1 col0\" >Стихотворения и поэмы</td>\n",
       "      <td id=\"T_2f439_row1_col1\" class=\"data row1 col1\" >Есенин С.А.</td>\n",
       "      <td id=\"T_2f439_row1_col2\" class=\"data row1 col2\" >9750.000000</td>\n",
       "    </tr>\n",
       "  </tbody>\n",
       "</table>\n"
      ],
      "text/plain": [
       "<pandas.io.formats.style.Styler at 0x136f9bd50>"
      ]
     },
     "execution_count": 8,
     "metadata": {},
     "output_type": "execute_result"
    }
   ],
   "source": [
    "read_sql_query(\"\"\"\n",
    "SELECT title, author, price * amount AS total\n",
    "FROM book\n",
    "WHERE price * amount > 4000\n",
    "\"\"\")"
   ]
  },
  {
   "cell_type": "markdown",
   "id": "b0b5e6b5",
   "metadata": {},
   "source": [
    "## Задание\n",
    "### Вывести автора, название  и цены тех книг, количество которых меньше 10."
   ]
  },
  {
   "cell_type": "code",
   "execution_count": 9,
   "id": "14b9b4ed",
   "metadata": {},
   "outputs": [
    {
     "data": {
      "text/html": [
       "<style type=\"text/css\">\n",
       "#T_e7594_row0_col0, #T_e7594_row0_col1, #T_e7594_row0_col2, #T_e7594_row1_col0, #T_e7594_row1_col1, #T_e7594_row1_col2, #T_e7594_row2_col0, #T_e7594_row2_col1, #T_e7594_row2_col2 {\n",
       "  text-align: left;\n",
       "}\n",
       "</style>\n",
       "<table id=\"T_e7594\">\n",
       "  <thead>\n",
       "    <tr>\n",
       "      <th class=\"blank level0\" >&nbsp;</th>\n",
       "      <th id=\"T_e7594_level0_col0\" class=\"col_heading level0 col0\" >author</th>\n",
       "      <th id=\"T_e7594_level0_col1\" class=\"col_heading level0 col1\" >title</th>\n",
       "      <th id=\"T_e7594_level0_col2\" class=\"col_heading level0 col2\" >price</th>\n",
       "    </tr>\n",
       "  </thead>\n",
       "  <tbody>\n",
       "    <tr>\n",
       "      <th id=\"T_e7594_level0_row0\" class=\"row_heading level0 row0\" >0</th>\n",
       "      <td id=\"T_e7594_row0_col0\" class=\"data row0 col0\" >Булгаков М.А.</td>\n",
       "      <td id=\"T_e7594_row0_col1\" class=\"data row0 col1\" >Мастер и Маргарита</td>\n",
       "      <td id=\"T_e7594_row0_col2\" class=\"data row0 col2\" >670.990000</td>\n",
       "    </tr>\n",
       "    <tr>\n",
       "      <th id=\"T_e7594_level0_row1\" class=\"row_heading level0 row1\" >1</th>\n",
       "      <td id=\"T_e7594_row1_col0\" class=\"data row1 col0\" >Булгаков М.А.</td>\n",
       "      <td id=\"T_e7594_row1_col1\" class=\"data row1 col1\" >Белая гвардия</td>\n",
       "      <td id=\"T_e7594_row1_col2\" class=\"data row1 col2\" >540.500000</td>\n",
       "    </tr>\n",
       "    <tr>\n",
       "      <th id=\"T_e7594_level0_row2\" class=\"row_heading level0 row2\" >2</th>\n",
       "      <td id=\"T_e7594_row2_col0\" class=\"data row2 col0\" >Достоевский Ф.М.</td>\n",
       "      <td id=\"T_e7594_row2_col1\" class=\"data row2 col1\" >Братья Карамазовы</td>\n",
       "      <td id=\"T_e7594_row2_col2\" class=\"data row2 col2\" >799.010000</td>\n",
       "    </tr>\n",
       "  </tbody>\n",
       "</table>\n"
      ],
      "text/plain": [
       "<pandas.io.formats.style.Styler at 0x13686e510>"
      ]
     },
     "execution_count": 9,
     "metadata": {},
     "output_type": "execute_result"
    }
   ],
   "source": [
    "read_sql_query(\"\"\"\n",
    "SELECT author, title, price\n",
    "FROM book\n",
    "WHERE amount < 10\n",
    "\"\"\")"
   ]
  },
  {
   "cell_type": "markdown",
   "id": "8826044a",
   "metadata": {},
   "source": [
    "## Выборка данных, логические операции.\n",
    "\n",
    "<p><strong>&nbsp;</strong>Логическое выражение после ключевого слова <code>WHERE</code> кроме операторов сравнения&nbsp; и выражений может включать &nbsp;<strong>логические операции</strong>&nbsp;(И «<strong>and</strong>», ИЛИ «<strong>or</strong>», НЕ «<strong>not</strong>») и круглые скобки, изменяющие приоритеты выполнения операций.</p>\n",
    "\n",
    "<p>Приоритеты операций:</p>\n",
    "\n",
    "<ol>\n",
    "\t<li>круглые скобки</li>\n",
    "\t<li>умножение &nbsp;(*), &nbsp;деление (/)</li>\n",
    "\t<li>сложение &nbsp;(+), вычитание (-)</li>\n",
    "\t<li>операторы сравнения (=, &gt;, &lt;, &gt;=, &lt;=, &lt;&gt;)</li>\n",
    "\t<li>NOT</li>\n",
    "\t<li>AND</li>\n",
    "\t<li>OR</li>\n",
    "</ol>\n",
    "\n",
    "### Пример\n",
    "<p>Вывести название, автора и цену тех книг, которые написал Булгаков, ценой больше 600 рублей</p>"
   ]
  },
  {
   "cell_type": "code",
   "execution_count": 10,
   "id": "d11f52a2",
   "metadata": {},
   "outputs": [
    {
     "data": {
      "text/html": [
       "<style type=\"text/css\">\n",
       "#T_186b2_row0_col0, #T_186b2_row0_col1, #T_186b2_row0_col2 {\n",
       "  text-align: left;\n",
       "}\n",
       "</style>\n",
       "<table id=\"T_186b2\">\n",
       "  <thead>\n",
       "    <tr>\n",
       "      <th class=\"blank level0\" >&nbsp;</th>\n",
       "      <th id=\"T_186b2_level0_col0\" class=\"col_heading level0 col0\" >title</th>\n",
       "      <th id=\"T_186b2_level0_col1\" class=\"col_heading level0 col1\" >author</th>\n",
       "      <th id=\"T_186b2_level0_col2\" class=\"col_heading level0 col2\" >price</th>\n",
       "    </tr>\n",
       "  </thead>\n",
       "  <tbody>\n",
       "    <tr>\n",
       "      <th id=\"T_186b2_level0_row0\" class=\"row_heading level0 row0\" >0</th>\n",
       "      <td id=\"T_186b2_row0_col0\" class=\"data row0 col0\" >Мастер и Маргарита</td>\n",
       "      <td id=\"T_186b2_row0_col1\" class=\"data row0 col1\" >Булгаков М.А.</td>\n",
       "      <td id=\"T_186b2_row0_col2\" class=\"data row0 col2\" >670.990000</td>\n",
       "    </tr>\n",
       "  </tbody>\n",
       "</table>\n"
      ],
      "text/plain": [
       "<pandas.io.formats.style.Styler at 0x136fc2e50>"
      ]
     },
     "execution_count": 10,
     "metadata": {},
     "output_type": "execute_result"
    }
   ],
   "source": [
    "read_sql_query(\"\"\"\n",
    "SELECT title, author, price\n",
    "FROM book\n",
    "WHERE price > 600 AND author = 'Булгаков М.А.'\n",
    "\"\"\")"
   ]
  },
  {
   "cell_type": "markdown",
   "id": "e2936004",
   "metadata": {},
   "source": [
    "## Пример\n",
    "<p>Вывести название,&nbsp;цену&nbsp; тех книг, которые написал Булгаков или Есенин, ценой больше 600 рублей</p>"
   ]
  },
  {
   "cell_type": "code",
   "execution_count": 11,
   "id": "6bf457c3",
   "metadata": {},
   "outputs": [
    {
     "data": {
      "text/html": [
       "<style type=\"text/css\">\n",
       "#T_b5556_row0_col0, #T_b5556_row0_col1, #T_b5556_row0_col2, #T_b5556_row1_col0, #T_b5556_row1_col1, #T_b5556_row1_col2 {\n",
       "  text-align: left;\n",
       "}\n",
       "</style>\n",
       "<table id=\"T_b5556\">\n",
       "  <thead>\n",
       "    <tr>\n",
       "      <th class=\"blank level0\" >&nbsp;</th>\n",
       "      <th id=\"T_b5556_level0_col0\" class=\"col_heading level0 col0\" >title</th>\n",
       "      <th id=\"T_b5556_level0_col1\" class=\"col_heading level0 col1\" >author</th>\n",
       "      <th id=\"T_b5556_level0_col2\" class=\"col_heading level0 col2\" >price</th>\n",
       "    </tr>\n",
       "  </thead>\n",
       "  <tbody>\n",
       "    <tr>\n",
       "      <th id=\"T_b5556_level0_row0\" class=\"row_heading level0 row0\" >0</th>\n",
       "      <td id=\"T_b5556_row0_col0\" class=\"data row0 col0\" >Мастер и Маргарита</td>\n",
       "      <td id=\"T_b5556_row0_col1\" class=\"data row0 col1\" >Булгаков М.А.</td>\n",
       "      <td id=\"T_b5556_row0_col2\" class=\"data row0 col2\" >670.990000</td>\n",
       "    </tr>\n",
       "    <tr>\n",
       "      <th id=\"T_b5556_level0_row1\" class=\"row_heading level0 row1\" >1</th>\n",
       "      <td id=\"T_b5556_row1_col0\" class=\"data row1 col0\" >Стихотворения и поэмы</td>\n",
       "      <td id=\"T_b5556_row1_col1\" class=\"data row1 col1\" >Есенин С.А.</td>\n",
       "      <td id=\"T_b5556_row1_col2\" class=\"data row1 col2\" >650.000000</td>\n",
       "    </tr>\n",
       "  </tbody>\n",
       "</table>\n"
      ],
      "text/plain": [
       "<pandas.io.formats.style.Styler at 0x136fc2fd0>"
      ]
     },
     "execution_count": 11,
     "metadata": {},
     "output_type": "execute_result"
    }
   ],
   "source": [
    "read_sql_query(\"\"\"\n",
    "SELECT title, author, price\n",
    "FROM book\n",
    "WHERE (author = 'Булгаков М.А.' OR author = 'Есенин С.А.') AND price > 600\n",
    "\"\"\")"
   ]
  },
  {
   "cell_type": "markdown",
   "id": "17932dab",
   "metadata": {},
   "source": [
    "### Пояснение\n",
    "\n",
    "<p>В данном запросе обязательно нужно поставить скобки, так как без них сначала вычисляется &nbsp;<code>author = 'Есенин С.А.' and price &gt; 600,</code> а потом уже выражение через <code>or</code>. Без скобок были бы&nbsp;отобраны все книги Булгакова и те книги Есенина, цена которых больше 600.</p>"
   ]
  },
  {
   "cell_type": "code",
   "execution_count": 12,
   "id": "6b659811",
   "metadata": {},
   "outputs": [
    {
     "data": {
      "text/html": [
       "<style type=\"text/css\">\n",
       "#T_9f2f8_row0_col0, #T_9f2f8_row0_col1, #T_9f2f8_row0_col2, #T_9f2f8_row1_col0, #T_9f2f8_row1_col1, #T_9f2f8_row1_col2, #T_9f2f8_row2_col0, #T_9f2f8_row2_col1, #T_9f2f8_row2_col2 {\n",
       "  text-align: left;\n",
       "}\n",
       "</style>\n",
       "<table id=\"T_9f2f8\">\n",
       "  <thead>\n",
       "    <tr>\n",
       "      <th class=\"blank level0\" >&nbsp;</th>\n",
       "      <th id=\"T_9f2f8_level0_col0\" class=\"col_heading level0 col0\" >title</th>\n",
       "      <th id=\"T_9f2f8_level0_col1\" class=\"col_heading level0 col1\" >author</th>\n",
       "      <th id=\"T_9f2f8_level0_col2\" class=\"col_heading level0 col2\" >price</th>\n",
       "    </tr>\n",
       "  </thead>\n",
       "  <tbody>\n",
       "    <tr>\n",
       "      <th id=\"T_9f2f8_level0_row0\" class=\"row_heading level0 row0\" >0</th>\n",
       "      <td id=\"T_9f2f8_row0_col0\" class=\"data row0 col0\" >Мастер и Маргарита</td>\n",
       "      <td id=\"T_9f2f8_row0_col1\" class=\"data row0 col1\" >Булгаков М.А.</td>\n",
       "      <td id=\"T_9f2f8_row0_col2\" class=\"data row0 col2\" >670.990000</td>\n",
       "    </tr>\n",
       "    <tr>\n",
       "      <th id=\"T_9f2f8_level0_row1\" class=\"row_heading level0 row1\" >1</th>\n",
       "      <td id=\"T_9f2f8_row1_col0\" class=\"data row1 col0\" >Белая гвардия</td>\n",
       "      <td id=\"T_9f2f8_row1_col1\" class=\"data row1 col1\" >Булгаков М.А.</td>\n",
       "      <td id=\"T_9f2f8_row1_col2\" class=\"data row1 col2\" >540.500000</td>\n",
       "    </tr>\n",
       "    <tr>\n",
       "      <th id=\"T_9f2f8_level0_row2\" class=\"row_heading level0 row2\" >2</th>\n",
       "      <td id=\"T_9f2f8_row2_col0\" class=\"data row2 col0\" >Стихотворения и поэмы</td>\n",
       "      <td id=\"T_9f2f8_row2_col1\" class=\"data row2 col1\" >Есенин С.А.</td>\n",
       "      <td id=\"T_9f2f8_row2_col2\" class=\"data row2 col2\" >650.000000</td>\n",
       "    </tr>\n",
       "  </tbody>\n",
       "</table>\n"
      ],
      "text/plain": [
       "<pandas.io.formats.style.Styler at 0x136fc1f90>"
      ]
     },
     "execution_count": 12,
     "metadata": {},
     "output_type": "execute_result"
    }
   ],
   "source": [
    "read_sql_query(\"\"\"\n",
    "SELECT title, author, price \n",
    "FROM book\n",
    "WHERE author = 'Булгаков М.А.' OR author = 'Есенин С.А.' AND price > 600\n",
    "\"\"\")"
   ]
  },
  {
   "cell_type": "markdown",
   "id": "8b82ca85",
   "metadata": {},
   "source": [
    "<h2>Задание</h2>\n",
    "\n",
    "<p>Вывести название, автора, &nbsp;цену &nbsp;и количество всех книг, цена которых меньше 500 или больше 600, а стоимость всех экземпляров этих книг&nbsp;больше или равна 5000.</p>"
   ]
  },
  {
   "cell_type": "code",
   "execution_count": 13,
   "id": "81577c95",
   "metadata": {},
   "outputs": [
    {
     "data": {
      "text/html": [
       "<style type=\"text/css\">\n",
       "#T_de544_row0_col0, #T_de544_row0_col1, #T_de544_row0_col2, #T_de544_row0_col3 {\n",
       "  text-align: left;\n",
       "}\n",
       "</style>\n",
       "<table id=\"T_de544\">\n",
       "  <thead>\n",
       "    <tr>\n",
       "      <th class=\"blank level0\" >&nbsp;</th>\n",
       "      <th id=\"T_de544_level0_col0\" class=\"col_heading level0 col0\" >title</th>\n",
       "      <th id=\"T_de544_level0_col1\" class=\"col_heading level0 col1\" >author</th>\n",
       "      <th id=\"T_de544_level0_col2\" class=\"col_heading level0 col2\" >price</th>\n",
       "      <th id=\"T_de544_level0_col3\" class=\"col_heading level0 col3\" >amount</th>\n",
       "    </tr>\n",
       "  </thead>\n",
       "  <tbody>\n",
       "    <tr>\n",
       "      <th id=\"T_de544_level0_row0\" class=\"row_heading level0 row0\" >0</th>\n",
       "      <td id=\"T_de544_row0_col0\" class=\"data row0 col0\" >Стихотворения и поэмы</td>\n",
       "      <td id=\"T_de544_row0_col1\" class=\"data row0 col1\" >Есенин С.А.</td>\n",
       "      <td id=\"T_de544_row0_col2\" class=\"data row0 col2\" >650.000000</td>\n",
       "      <td id=\"T_de544_row0_col3\" class=\"data row0 col3\" >15</td>\n",
       "    </tr>\n",
       "  </tbody>\n",
       "</table>\n"
      ],
      "text/plain": [
       "<pandas.io.formats.style.Styler at 0x126d4c1d0>"
      ]
     },
     "execution_count": 13,
     "metadata": {},
     "output_type": "execute_result"
    }
   ],
   "source": [
    "read_sql_query(\"\"\"\n",
    "SELECT title, author, price, amount\n",
    "FROM book\n",
    "WHERE (price < 500 OR price > 600) AND amount*price >= 5000\n",
    "\"\"\")"
   ]
  },
  {
   "cell_type": "markdown",
   "id": "810194c6",
   "metadata": {},
   "source": [
    "<h2>Выборка данных, операторы BETWEEN, IN</h2>\n",
    "\n",
    "<p><strong>&nbsp;</strong>Логическое выражение после ключевого слова <code>WHERE</code> может включать операторы &nbsp;<strong><code>BETWEEN</code></strong> и <strong><code>IN</code></strong>. Приоритет&nbsp; у этих операторов такой же как у операторов сравнения, то есть они выполняются раньше, чем <code><strong>NOT</strong></code>, <code><strong>AND</strong>,</code> <code><strong>OR</strong></code>.</p>\n",
    "\n",
    "<p>Оператор <code>BETWEEN</code> позволяет отобрать данные, относящиеся к некоторому интервалу, включая его границы.</p>\n",
    "\n",
    "<p><strong>Пример</strong></p>\n",
    "\n",
    "<p>Выбрать названия и количества тех книг, количество которых от 5 до 14 включительно.</p>"
   ]
  },
  {
   "cell_type": "code",
   "execution_count": 14,
   "id": "bc5467af",
   "metadata": {},
   "outputs": [
    {
     "data": {
      "text/html": [
       "<style type=\"text/css\">\n",
       "#T_24f31_row0_col0, #T_24f31_row0_col1, #T_24f31_row1_col0, #T_24f31_row1_col1 {\n",
       "  text-align: left;\n",
       "}\n",
       "</style>\n",
       "<table id=\"T_24f31\">\n",
       "  <thead>\n",
       "    <tr>\n",
       "      <th class=\"blank level0\" >&nbsp;</th>\n",
       "      <th id=\"T_24f31_level0_col0\" class=\"col_heading level0 col0\" >title</th>\n",
       "      <th id=\"T_24f31_level0_col1\" class=\"col_heading level0 col1\" >amount</th>\n",
       "    </tr>\n",
       "  </thead>\n",
       "  <tbody>\n",
       "    <tr>\n",
       "      <th id=\"T_24f31_level0_row0\" class=\"row_heading level0 row0\" >0</th>\n",
       "      <td id=\"T_24f31_row0_col0\" class=\"data row0 col0\" >Белая гвардия</td>\n",
       "      <td id=\"T_24f31_row0_col1\" class=\"data row0 col1\" >5</td>\n",
       "    </tr>\n",
       "    <tr>\n",
       "      <th id=\"T_24f31_level0_row1\" class=\"row_heading level0 row1\" >1</th>\n",
       "      <td id=\"T_24f31_row1_col0\" class=\"data row1 col0\" >Идиот</td>\n",
       "      <td id=\"T_24f31_row1_col1\" class=\"data row1 col1\" >10</td>\n",
       "    </tr>\n",
       "  </tbody>\n",
       "</table>\n"
      ],
      "text/plain": [
       "<pandas.io.formats.style.Styler at 0x136f96ed0>"
      ]
     },
     "execution_count": 14,
     "metadata": {},
     "output_type": "execute_result"
    }
   ],
   "source": [
    "read_sql_query(\"\"\"\n",
    "SELECT title, amount\n",
    "FROM book\n",
    "WHERE amount BETWEEN 5 AND 14\n",
    "\"\"\")"
   ]
  },
  {
   "cell_type": "markdown",
   "id": "cdc43865",
   "metadata": {},
   "source": [
    "<p>Этот запрос можно реализовать по-другому, результат будет точно такой же.</p>"
   ]
  },
  {
   "cell_type": "code",
   "execution_count": 15,
   "id": "626f1955",
   "metadata": {},
   "outputs": [
    {
     "data": {
      "text/html": [
       "<style type=\"text/css\">\n",
       "#T_40d4b_row0_col0, #T_40d4b_row0_col1, #T_40d4b_row1_col0, #T_40d4b_row1_col1 {\n",
       "  text-align: left;\n",
       "}\n",
       "</style>\n",
       "<table id=\"T_40d4b\">\n",
       "  <thead>\n",
       "    <tr>\n",
       "      <th class=\"blank level0\" >&nbsp;</th>\n",
       "      <th id=\"T_40d4b_level0_col0\" class=\"col_heading level0 col0\" >title</th>\n",
       "      <th id=\"T_40d4b_level0_col1\" class=\"col_heading level0 col1\" >amount</th>\n",
       "    </tr>\n",
       "  </thead>\n",
       "  <tbody>\n",
       "    <tr>\n",
       "      <th id=\"T_40d4b_level0_row0\" class=\"row_heading level0 row0\" >0</th>\n",
       "      <td id=\"T_40d4b_row0_col0\" class=\"data row0 col0\" >Белая гвардия</td>\n",
       "      <td id=\"T_40d4b_row0_col1\" class=\"data row0 col1\" >5</td>\n",
       "    </tr>\n",
       "    <tr>\n",
       "      <th id=\"T_40d4b_level0_row1\" class=\"row_heading level0 row1\" >1</th>\n",
       "      <td id=\"T_40d4b_row1_col0\" class=\"data row1 col0\" >Идиот</td>\n",
       "      <td id=\"T_40d4b_row1_col1\" class=\"data row1 col1\" >10</td>\n",
       "    </tr>\n",
       "  </tbody>\n",
       "</table>\n"
      ],
      "text/plain": [
       "<pandas.io.formats.style.Styler at 0x136f78450>"
      ]
     },
     "execution_count": 15,
     "metadata": {},
     "output_type": "execute_result"
    }
   ],
   "source": [
    "read_sql_query(\"\"\"\n",
    "SELECT title, amount\n",
    "FROM book\n",
    "WHERE amount >= 5 AND amount <= 14\n",
    "\"\"\")"
   ]
  },
  {
   "cell_type": "markdown",
   "id": "6f6882ed",
   "metadata": {},
   "source": [
    "<p><strong>Пример</strong></p>\n",
    "\n",
    "<p>Выбрать названия и цены&nbsp;книг, написанных Булгаковым или Достоевским.</p>"
   ]
  },
  {
   "cell_type": "code",
   "execution_count": 16,
   "id": "37380ac4",
   "metadata": {},
   "outputs": [
    {
     "data": {
      "text/html": [
       "<style type=\"text/css\">\n",
       "#T_9d560_row0_col0, #T_9d560_row0_col1, #T_9d560_row1_col0, #T_9d560_row1_col1, #T_9d560_row2_col0, #T_9d560_row2_col1, #T_9d560_row3_col0, #T_9d560_row3_col1 {\n",
       "  text-align: left;\n",
       "}\n",
       "</style>\n",
       "<table id=\"T_9d560\">\n",
       "  <thead>\n",
       "    <tr>\n",
       "      <th class=\"blank level0\" >&nbsp;</th>\n",
       "      <th id=\"T_9d560_level0_col0\" class=\"col_heading level0 col0\" >title</th>\n",
       "      <th id=\"T_9d560_level0_col1\" class=\"col_heading level0 col1\" >price</th>\n",
       "    </tr>\n",
       "  </thead>\n",
       "  <tbody>\n",
       "    <tr>\n",
       "      <th id=\"T_9d560_level0_row0\" class=\"row_heading level0 row0\" >0</th>\n",
       "      <td id=\"T_9d560_row0_col0\" class=\"data row0 col0\" >Мастер и Маргарита</td>\n",
       "      <td id=\"T_9d560_row0_col1\" class=\"data row0 col1\" >670.990000</td>\n",
       "    </tr>\n",
       "    <tr>\n",
       "      <th id=\"T_9d560_level0_row1\" class=\"row_heading level0 row1\" >1</th>\n",
       "      <td id=\"T_9d560_row1_col0\" class=\"data row1 col0\" >Белая гвардия</td>\n",
       "      <td id=\"T_9d560_row1_col1\" class=\"data row1 col1\" >540.500000</td>\n",
       "    </tr>\n",
       "    <tr>\n",
       "      <th id=\"T_9d560_level0_row2\" class=\"row_heading level0 row2\" >2</th>\n",
       "      <td id=\"T_9d560_row2_col0\" class=\"data row2 col0\" >Идиот</td>\n",
       "      <td id=\"T_9d560_row2_col1\" class=\"data row2 col1\" >460.000000</td>\n",
       "    </tr>\n",
       "    <tr>\n",
       "      <th id=\"T_9d560_level0_row3\" class=\"row_heading level0 row3\" >3</th>\n",
       "      <td id=\"T_9d560_row3_col0\" class=\"data row3 col0\" >Братья Карамазовы</td>\n",
       "      <td id=\"T_9d560_row3_col1\" class=\"data row3 col1\" >799.010000</td>\n",
       "    </tr>\n",
       "  </tbody>\n",
       "</table>\n"
      ],
      "text/plain": [
       "<pandas.io.formats.style.Styler at 0x1368e6610>"
      ]
     },
     "execution_count": 16,
     "metadata": {},
     "output_type": "execute_result"
    }
   ],
   "source": [
    "read_sql_query(\"\"\"\n",
    "SELECT title, price\n",
    "FROM book\n",
    "WHERE author IN ('Булгаков М.А.', 'Достоевский Ф.М.')\n",
    "\"\"\")"
   ]
  },
  {
   "cell_type": "markdown",
   "id": "f269bba3",
   "metadata": {},
   "source": [
    "<p>Этот запрос можно реализовать по-другому, результат будет точно такой же.</p>"
   ]
  },
  {
   "cell_type": "code",
   "execution_count": 17,
   "id": "d54572b5",
   "metadata": {},
   "outputs": [
    {
     "data": {
      "text/html": [
       "<style type=\"text/css\">\n",
       "#T_0d995_row0_col0, #T_0d995_row0_col1, #T_0d995_row1_col0, #T_0d995_row1_col1, #T_0d995_row2_col0, #T_0d995_row2_col1, #T_0d995_row3_col0, #T_0d995_row3_col1 {\n",
       "  text-align: left;\n",
       "}\n",
       "</style>\n",
       "<table id=\"T_0d995\">\n",
       "  <thead>\n",
       "    <tr>\n",
       "      <th class=\"blank level0\" >&nbsp;</th>\n",
       "      <th id=\"T_0d995_level0_col0\" class=\"col_heading level0 col0\" >title</th>\n",
       "      <th id=\"T_0d995_level0_col1\" class=\"col_heading level0 col1\" >price</th>\n",
       "    </tr>\n",
       "  </thead>\n",
       "  <tbody>\n",
       "    <tr>\n",
       "      <th id=\"T_0d995_level0_row0\" class=\"row_heading level0 row0\" >0</th>\n",
       "      <td id=\"T_0d995_row0_col0\" class=\"data row0 col0\" >Мастер и Маргарита</td>\n",
       "      <td id=\"T_0d995_row0_col1\" class=\"data row0 col1\" >670.990000</td>\n",
       "    </tr>\n",
       "    <tr>\n",
       "      <th id=\"T_0d995_level0_row1\" class=\"row_heading level0 row1\" >1</th>\n",
       "      <td id=\"T_0d995_row1_col0\" class=\"data row1 col0\" >Белая гвардия</td>\n",
       "      <td id=\"T_0d995_row1_col1\" class=\"data row1 col1\" >540.500000</td>\n",
       "    </tr>\n",
       "    <tr>\n",
       "      <th id=\"T_0d995_level0_row2\" class=\"row_heading level0 row2\" >2</th>\n",
       "      <td id=\"T_0d995_row2_col0\" class=\"data row2 col0\" >Идиот</td>\n",
       "      <td id=\"T_0d995_row2_col1\" class=\"data row2 col1\" >460.000000</td>\n",
       "    </tr>\n",
       "    <tr>\n",
       "      <th id=\"T_0d995_level0_row3\" class=\"row_heading level0 row3\" >3</th>\n",
       "      <td id=\"T_0d995_row3_col0\" class=\"data row3 col0\" >Братья Карамазовы</td>\n",
       "      <td id=\"T_0d995_row3_col1\" class=\"data row3 col1\" >799.010000</td>\n",
       "    </tr>\n",
       "  </tbody>\n",
       "</table>\n"
      ],
      "text/plain": [
       "<pandas.io.formats.style.Styler at 0x136f9afd0>"
      ]
     },
     "execution_count": 17,
     "metadata": {},
     "output_type": "execute_result"
    }
   ],
   "source": [
    "read_sql_query(\"\"\"\n",
    "SELECT title, price \n",
    "FROM book\n",
    "WHERE author = 'Булгаков М.А.' OR author = 'Достоевский Ф.М.';\n",
    "\"\"\")"
   ]
  },
  {
   "cell_type": "markdown",
   "id": "20beebc9",
   "metadata": {},
   "source": [
    "<h2>Задание</h2>\n",
    "\n",
    "<p>Вывести название и авторов тех книг, цены которых принадлежат интервалу от 540.50 до 800 (включая границы), &nbsp;а количество или 2, или 3, или 5, или 7 .</p>"
   ]
  },
  {
   "cell_type": "code",
   "execution_count": 18,
   "id": "d8495a5d",
   "metadata": {
    "scrolled": true
   },
   "outputs": [
    {
     "data": {
      "text/html": [
       "<style type=\"text/css\">\n",
       "#T_3d837_row0_col0, #T_3d837_row0_col1, #T_3d837_row1_col0, #T_3d837_row1_col1, #T_3d837_row2_col0, #T_3d837_row2_col1 {\n",
       "  text-align: left;\n",
       "}\n",
       "</style>\n",
       "<table id=\"T_3d837\">\n",
       "  <thead>\n",
       "    <tr>\n",
       "      <th class=\"blank level0\" >&nbsp;</th>\n",
       "      <th id=\"T_3d837_level0_col0\" class=\"col_heading level0 col0\" >title</th>\n",
       "      <th id=\"T_3d837_level0_col1\" class=\"col_heading level0 col1\" >author</th>\n",
       "    </tr>\n",
       "  </thead>\n",
       "  <tbody>\n",
       "    <tr>\n",
       "      <th id=\"T_3d837_level0_row0\" class=\"row_heading level0 row0\" >0</th>\n",
       "      <td id=\"T_3d837_row0_col0\" class=\"data row0 col0\" >Мастер и Маргарита</td>\n",
       "      <td id=\"T_3d837_row0_col1\" class=\"data row0 col1\" >Булгаков М.А.</td>\n",
       "    </tr>\n",
       "    <tr>\n",
       "      <th id=\"T_3d837_level0_row1\" class=\"row_heading level0 row1\" >1</th>\n",
       "      <td id=\"T_3d837_row1_col0\" class=\"data row1 col0\" >Белая гвардия</td>\n",
       "      <td id=\"T_3d837_row1_col1\" class=\"data row1 col1\" >Булгаков М.А.</td>\n",
       "    </tr>\n",
       "    <tr>\n",
       "      <th id=\"T_3d837_level0_row2\" class=\"row_heading level0 row2\" >2</th>\n",
       "      <td id=\"T_3d837_row2_col0\" class=\"data row2 col0\" >Братья Карамазовы</td>\n",
       "      <td id=\"T_3d837_row2_col1\" class=\"data row2 col1\" >Достоевский Ф.М.</td>\n",
       "    </tr>\n",
       "  </tbody>\n",
       "</table>\n"
      ],
      "text/plain": [
       "<pandas.io.formats.style.Styler at 0x110c73090>"
      ]
     },
     "execution_count": 18,
     "metadata": {},
     "output_type": "execute_result"
    }
   ],
   "source": [
    "read_sql_query(\"\"\"\n",
    "SELECT title, author\n",
    "FROM book\n",
    "WHERE (price BETWEEN 540.50 AND 800) AND amount IN (2, 3, 5)\n",
    "\"\"\")"
   ]
  },
  {
   "cell_type": "markdown",
   "id": "87ad7ad1",
   "metadata": {},
   "source": [
    "<h2>Выборка данных с сортировкой</h2>\n",
    "\n",
    "<p>При выборке можно указывать столбец или несколько столбцов, по которым необходимо отсортировать отобранные строки. Для этого используются ключевые слова <code>ORDER BY</code>, после которых задаются имена столбцов. При этом строки сортируются по первому столбцу, если указан второй столбец, сортировка осуществляется только для тех строк, у которых&nbsp;значения первого столбца одинаковы. По умолчанию&nbsp;<code>ORDER BY</code> выполняет сортировку по возрастанию. Чтобы управлять направлением сортировки вручную, после имени столбца указывается ключевое слово <code>ASC</code> (по возрастанию) или <code>DESC</code> (по убыванию).&nbsp;</p>\n",
    "\n",
    "<p>Столбцы после ключевого слова <code>ORDER BY</code> можно задавать:</p>\n",
    "\n",
    "<ul>\n",
    "\t<li>названием столбца;</li>\n",
    "\t<li>номером столбца;</li>\n",
    "\t<li>именем столбца (указанным после <code>AS</code>).</li>\n",
    "</ul>\n",
    "\n",
    "<strong>Пример</strong>\n",
    "\n",
    "<p>Вывести название, автора и цены книг. Информацию &nbsp;отсортировать по названиям книг&nbsp;в алфавитном порядке.</p>"
   ]
  },
  {
   "cell_type": "code",
   "execution_count": 21,
   "id": "20694abd",
   "metadata": {},
   "outputs": [
    {
     "data": {
      "text/html": [
       "<style type=\"text/css\">\n",
       "#T_5d9fa_row0_col0, #T_5d9fa_row0_col1, #T_5d9fa_row0_col2, #T_5d9fa_row1_col0, #T_5d9fa_row1_col1, #T_5d9fa_row1_col2, #T_5d9fa_row2_col0, #T_5d9fa_row2_col1, #T_5d9fa_row2_col2, #T_5d9fa_row3_col0, #T_5d9fa_row3_col1, #T_5d9fa_row3_col2, #T_5d9fa_row4_col0, #T_5d9fa_row4_col1, #T_5d9fa_row4_col2 {\n",
       "  text-align: left;\n",
       "}\n",
       "</style>\n",
       "<table id=\"T_5d9fa\">\n",
       "  <thead>\n",
       "    <tr>\n",
       "      <th class=\"blank level0\" >&nbsp;</th>\n",
       "      <th id=\"T_5d9fa_level0_col0\" class=\"col_heading level0 col0\" >title</th>\n",
       "      <th id=\"T_5d9fa_level0_col1\" class=\"col_heading level0 col1\" >author</th>\n",
       "      <th id=\"T_5d9fa_level0_col2\" class=\"col_heading level0 col2\" >price</th>\n",
       "    </tr>\n",
       "  </thead>\n",
       "  <tbody>\n",
       "    <tr>\n",
       "      <th id=\"T_5d9fa_level0_row0\" class=\"row_heading level0 row0\" >0</th>\n",
       "      <td id=\"T_5d9fa_row0_col0\" class=\"data row0 col0\" >Белая гвардия</td>\n",
       "      <td id=\"T_5d9fa_row0_col1\" class=\"data row0 col1\" >Булгаков М.А.</td>\n",
       "      <td id=\"T_5d9fa_row0_col2\" class=\"data row0 col2\" >540.500000</td>\n",
       "    </tr>\n",
       "    <tr>\n",
       "      <th id=\"T_5d9fa_level0_row1\" class=\"row_heading level0 row1\" >1</th>\n",
       "      <td id=\"T_5d9fa_row1_col0\" class=\"data row1 col0\" >Братья Карамазовы</td>\n",
       "      <td id=\"T_5d9fa_row1_col1\" class=\"data row1 col1\" >Достоевский Ф.М.</td>\n",
       "      <td id=\"T_5d9fa_row1_col2\" class=\"data row1 col2\" >799.010000</td>\n",
       "    </tr>\n",
       "    <tr>\n",
       "      <th id=\"T_5d9fa_level0_row2\" class=\"row_heading level0 row2\" >2</th>\n",
       "      <td id=\"T_5d9fa_row2_col0\" class=\"data row2 col0\" >Идиот</td>\n",
       "      <td id=\"T_5d9fa_row2_col1\" class=\"data row2 col1\" >Достоевский Ф.М.</td>\n",
       "      <td id=\"T_5d9fa_row2_col2\" class=\"data row2 col2\" >460.000000</td>\n",
       "    </tr>\n",
       "    <tr>\n",
       "      <th id=\"T_5d9fa_level0_row3\" class=\"row_heading level0 row3\" >3</th>\n",
       "      <td id=\"T_5d9fa_row3_col0\" class=\"data row3 col0\" >Мастер и Маргарита</td>\n",
       "      <td id=\"T_5d9fa_row3_col1\" class=\"data row3 col1\" >Булгаков М.А.</td>\n",
       "      <td id=\"T_5d9fa_row3_col2\" class=\"data row3 col2\" >670.990000</td>\n",
       "    </tr>\n",
       "    <tr>\n",
       "      <th id=\"T_5d9fa_level0_row4\" class=\"row_heading level0 row4\" >4</th>\n",
       "      <td id=\"T_5d9fa_row4_col0\" class=\"data row4 col0\" >Стихотворения и поэмы</td>\n",
       "      <td id=\"T_5d9fa_row4_col1\" class=\"data row4 col1\" >Есенин С.А.</td>\n",
       "      <td id=\"T_5d9fa_row4_col2\" class=\"data row4 col2\" >650.000000</td>\n",
       "    </tr>\n",
       "  </tbody>\n",
       "</table>\n"
      ],
      "text/plain": [
       "<pandas.io.formats.style.Styler at 0x1374bcf50>"
      ]
     },
     "execution_count": 21,
     "metadata": {},
     "output_type": "execute_result"
    }
   ],
   "source": [
    "read_sql_query(\"\"\"\n",
    "SELECT title, author, price\n",
    "FROM book\n",
    "ORDER BY title\n",
    "\"\"\")"
   ]
  },
  {
   "cell_type": "markdown",
   "id": "f7046741",
   "metadata": {},
   "source": [
    "<p>Аналогичный результат получится при использовании запроса:</p>"
   ]
  },
  {
   "cell_type": "code",
   "execution_count": 22,
   "id": "5e5a2490",
   "metadata": {},
   "outputs": [
    {
     "data": {
      "text/html": [
       "<style type=\"text/css\">\n",
       "#T_c5d10_row0_col0, #T_c5d10_row0_col1, #T_c5d10_row0_col2, #T_c5d10_row1_col0, #T_c5d10_row1_col1, #T_c5d10_row1_col2, #T_c5d10_row2_col0, #T_c5d10_row2_col1, #T_c5d10_row2_col2, #T_c5d10_row3_col0, #T_c5d10_row3_col1, #T_c5d10_row3_col2, #T_c5d10_row4_col0, #T_c5d10_row4_col1, #T_c5d10_row4_col2 {\n",
       "  text-align: left;\n",
       "}\n",
       "</style>\n",
       "<table id=\"T_c5d10\">\n",
       "  <thead>\n",
       "    <tr>\n",
       "      <th class=\"blank level0\" >&nbsp;</th>\n",
       "      <th id=\"T_c5d10_level0_col0\" class=\"col_heading level0 col0\" >title</th>\n",
       "      <th id=\"T_c5d10_level0_col1\" class=\"col_heading level0 col1\" >author</th>\n",
       "      <th id=\"T_c5d10_level0_col2\" class=\"col_heading level0 col2\" >price</th>\n",
       "    </tr>\n",
       "  </thead>\n",
       "  <tbody>\n",
       "    <tr>\n",
       "      <th id=\"T_c5d10_level0_row0\" class=\"row_heading level0 row0\" >0</th>\n",
       "      <td id=\"T_c5d10_row0_col0\" class=\"data row0 col0\" >Белая гвардия</td>\n",
       "      <td id=\"T_c5d10_row0_col1\" class=\"data row0 col1\" >Булгаков М.А.</td>\n",
       "      <td id=\"T_c5d10_row0_col2\" class=\"data row0 col2\" >540.500000</td>\n",
       "    </tr>\n",
       "    <tr>\n",
       "      <th id=\"T_c5d10_level0_row1\" class=\"row_heading level0 row1\" >1</th>\n",
       "      <td id=\"T_c5d10_row1_col0\" class=\"data row1 col0\" >Братья Карамазовы</td>\n",
       "      <td id=\"T_c5d10_row1_col1\" class=\"data row1 col1\" >Достоевский Ф.М.</td>\n",
       "      <td id=\"T_c5d10_row1_col2\" class=\"data row1 col2\" >799.010000</td>\n",
       "    </tr>\n",
       "    <tr>\n",
       "      <th id=\"T_c5d10_level0_row2\" class=\"row_heading level0 row2\" >2</th>\n",
       "      <td id=\"T_c5d10_row2_col0\" class=\"data row2 col0\" >Идиот</td>\n",
       "      <td id=\"T_c5d10_row2_col1\" class=\"data row2 col1\" >Достоевский Ф.М.</td>\n",
       "      <td id=\"T_c5d10_row2_col2\" class=\"data row2 col2\" >460.000000</td>\n",
       "    </tr>\n",
       "    <tr>\n",
       "      <th id=\"T_c5d10_level0_row3\" class=\"row_heading level0 row3\" >3</th>\n",
       "      <td id=\"T_c5d10_row3_col0\" class=\"data row3 col0\" >Мастер и Маргарита</td>\n",
       "      <td id=\"T_c5d10_row3_col1\" class=\"data row3 col1\" >Булгаков М.А.</td>\n",
       "      <td id=\"T_c5d10_row3_col2\" class=\"data row3 col2\" >670.990000</td>\n",
       "    </tr>\n",
       "    <tr>\n",
       "      <th id=\"T_c5d10_level0_row4\" class=\"row_heading level0 row4\" >4</th>\n",
       "      <td id=\"T_c5d10_row4_col0\" class=\"data row4 col0\" >Стихотворения и поэмы</td>\n",
       "      <td id=\"T_c5d10_row4_col1\" class=\"data row4 col1\" >Есенин С.А.</td>\n",
       "      <td id=\"T_c5d10_row4_col2\" class=\"data row4 col2\" >650.000000</td>\n",
       "    </tr>\n",
       "  </tbody>\n",
       "</table>\n"
      ],
      "text/plain": [
       "<pandas.io.formats.style.Styler at 0x13751f310>"
      ]
     },
     "execution_count": 22,
     "metadata": {},
     "output_type": "execute_result"
    }
   ],
   "source": [
    "read_sql_query(\"\"\"\n",
    "SELECT title, author, price\n",
    "FROM book\n",
    "ORDER BY 1;\n",
    "\"\"\")"
   ]
  },
  {
   "cell_type": "markdown",
   "id": "84c114c4",
   "metadata": {},
   "source": [
    "## Пример\n",
    "\n",
    "<p>Вывести автора, название и количество&nbsp;книг, в отсортированном в алфавитном порядке по автору и по убыванию количества, для тех книг, цены которых меньше 750 рублей.</p>"
   ]
  },
  {
   "cell_type": "code",
   "execution_count": 25,
   "id": "0989f5af",
   "metadata": {},
   "outputs": [
    {
     "data": {
      "text/html": [
       "<style type=\"text/css\">\n",
       "#T_bb5ed_row0_col0, #T_bb5ed_row0_col1, #T_bb5ed_row0_col2, #T_bb5ed_row1_col0, #T_bb5ed_row1_col1, #T_bb5ed_row1_col2, #T_bb5ed_row2_col0, #T_bb5ed_row2_col1, #T_bb5ed_row2_col2, #T_bb5ed_row3_col0, #T_bb5ed_row3_col1, #T_bb5ed_row3_col2 {\n",
       "  text-align: left;\n",
       "}\n",
       "</style>\n",
       "<table id=\"T_bb5ed\">\n",
       "  <thead>\n",
       "    <tr>\n",
       "      <th class=\"blank level0\" >&nbsp;</th>\n",
       "      <th id=\"T_bb5ed_level0_col0\" class=\"col_heading level0 col0\" >author</th>\n",
       "      <th id=\"T_bb5ed_level0_col1\" class=\"col_heading level0 col1\" >title</th>\n",
       "      <th id=\"T_bb5ed_level0_col2\" class=\"col_heading level0 col2\" >Количество</th>\n",
       "    </tr>\n",
       "  </thead>\n",
       "  <tbody>\n",
       "    <tr>\n",
       "      <th id=\"T_bb5ed_level0_row0\" class=\"row_heading level0 row0\" >0</th>\n",
       "      <td id=\"T_bb5ed_row0_col0\" class=\"data row0 col0\" >Булгаков М.А.</td>\n",
       "      <td id=\"T_bb5ed_row0_col1\" class=\"data row0 col1\" >Белая гвардия</td>\n",
       "      <td id=\"T_bb5ed_row0_col2\" class=\"data row0 col2\" >5</td>\n",
       "    </tr>\n",
       "    <tr>\n",
       "      <th id=\"T_bb5ed_level0_row1\" class=\"row_heading level0 row1\" >1</th>\n",
       "      <td id=\"T_bb5ed_row1_col0\" class=\"data row1 col0\" >Булгаков М.А.</td>\n",
       "      <td id=\"T_bb5ed_row1_col1\" class=\"data row1 col1\" >Мастер и Маргарита</td>\n",
       "      <td id=\"T_bb5ed_row1_col2\" class=\"data row1 col2\" >3</td>\n",
       "    </tr>\n",
       "    <tr>\n",
       "      <th id=\"T_bb5ed_level0_row2\" class=\"row_heading level0 row2\" >2</th>\n",
       "      <td id=\"T_bb5ed_row2_col0\" class=\"data row2 col0\" >Достоевский Ф.М.</td>\n",
       "      <td id=\"T_bb5ed_row2_col1\" class=\"data row2 col1\" >Идиот</td>\n",
       "      <td id=\"T_bb5ed_row2_col2\" class=\"data row2 col2\" >10</td>\n",
       "    </tr>\n",
       "    <tr>\n",
       "      <th id=\"T_bb5ed_level0_row3\" class=\"row_heading level0 row3\" >3</th>\n",
       "      <td id=\"T_bb5ed_row3_col0\" class=\"data row3 col0\" >Есенин С.А.</td>\n",
       "      <td id=\"T_bb5ed_row3_col1\" class=\"data row3 col1\" >Стихотворения и поэмы</td>\n",
       "      <td id=\"T_bb5ed_row3_col2\" class=\"data row3 col2\" >15</td>\n",
       "    </tr>\n",
       "  </tbody>\n",
       "</table>\n"
      ],
      "text/plain": [
       "<pandas.io.formats.style.Styler at 0x15a16ac90>"
      ]
     },
     "execution_count": 25,
     "metadata": {},
     "output_type": "execute_result"
    }
   ],
   "source": [
    "read_sql_query(\"\"\"\n",
    "SELECT author, title, amount AS Количество\n",
    "FROM book\n",
    "WHERE price < 750\n",
    "ORDER BY author, amount DESC;\n",
    "\"\"\")"
   ]
  },
  {
   "cell_type": "markdown",
   "id": "34f0d874",
   "metadata": {},
   "source": [
    "<p>Можно использовать другие варианты записи запроса:</p>"
   ]
  },
  {
   "cell_type": "code",
   "execution_count": 26,
   "id": "0798ca3f",
   "metadata": {},
   "outputs": [
    {
     "data": {
      "text/html": [
       "<style type=\"text/css\">\n",
       "#T_c723b_row0_col0, #T_c723b_row0_col1, #T_c723b_row0_col2, #T_c723b_row1_col0, #T_c723b_row1_col1, #T_c723b_row1_col2, #T_c723b_row2_col0, #T_c723b_row2_col1, #T_c723b_row2_col2, #T_c723b_row3_col0, #T_c723b_row3_col1, #T_c723b_row3_col2 {\n",
       "  text-align: left;\n",
       "}\n",
       "</style>\n",
       "<table id=\"T_c723b\">\n",
       "  <thead>\n",
       "    <tr>\n",
       "      <th class=\"blank level0\" >&nbsp;</th>\n",
       "      <th id=\"T_c723b_level0_col0\" class=\"col_heading level0 col0\" >author</th>\n",
       "      <th id=\"T_c723b_level0_col1\" class=\"col_heading level0 col1\" >title</th>\n",
       "      <th id=\"T_c723b_level0_col2\" class=\"col_heading level0 col2\" >Количество</th>\n",
       "    </tr>\n",
       "  </thead>\n",
       "  <tbody>\n",
       "    <tr>\n",
       "      <th id=\"T_c723b_level0_row0\" class=\"row_heading level0 row0\" >0</th>\n",
       "      <td id=\"T_c723b_row0_col0\" class=\"data row0 col0\" >Булгаков М.А.</td>\n",
       "      <td id=\"T_c723b_row0_col1\" class=\"data row0 col1\" >Белая гвардия</td>\n",
       "      <td id=\"T_c723b_row0_col2\" class=\"data row0 col2\" >5</td>\n",
       "    </tr>\n",
       "    <tr>\n",
       "      <th id=\"T_c723b_level0_row1\" class=\"row_heading level0 row1\" >1</th>\n",
       "      <td id=\"T_c723b_row1_col0\" class=\"data row1 col0\" >Булгаков М.А.</td>\n",
       "      <td id=\"T_c723b_row1_col1\" class=\"data row1 col1\" >Мастер и Маргарита</td>\n",
       "      <td id=\"T_c723b_row1_col2\" class=\"data row1 col2\" >3</td>\n",
       "    </tr>\n",
       "    <tr>\n",
       "      <th id=\"T_c723b_level0_row2\" class=\"row_heading level0 row2\" >2</th>\n",
       "      <td id=\"T_c723b_row2_col0\" class=\"data row2 col0\" >Достоевский Ф.М.</td>\n",
       "      <td id=\"T_c723b_row2_col1\" class=\"data row2 col1\" >Идиот</td>\n",
       "      <td id=\"T_c723b_row2_col2\" class=\"data row2 col2\" >10</td>\n",
       "    </tr>\n",
       "    <tr>\n",
       "      <th id=\"T_c723b_level0_row3\" class=\"row_heading level0 row3\" >3</th>\n",
       "      <td id=\"T_c723b_row3_col0\" class=\"data row3 col0\" >Есенин С.А.</td>\n",
       "      <td id=\"T_c723b_row3_col1\" class=\"data row3 col1\" >Стихотворения и поэмы</td>\n",
       "      <td id=\"T_c723b_row3_col2\" class=\"data row3 col2\" >15</td>\n",
       "    </tr>\n",
       "  </tbody>\n",
       "</table>\n"
      ],
      "text/plain": [
       "<pandas.io.formats.style.Styler at 0x15a1a7e50>"
      ]
     },
     "execution_count": 26,
     "metadata": {},
     "output_type": "execute_result"
    }
   ],
   "source": [
    "read_sql_query(\"\"\"\n",
    "SELECT author, title, amount AS Количество\n",
    "FROM book\n",
    "WHERE price < 750\n",
    "ORDER BY author, Количество DESC;\n",
    "\"\"\")"
   ]
  },
  {
   "cell_type": "code",
   "execution_count": 27,
   "id": "44967362",
   "metadata": {},
   "outputs": [
    {
     "data": {
      "text/html": [
       "<style type=\"text/css\">\n",
       "#T_5b7d4_row0_col0, #T_5b7d4_row0_col1, #T_5b7d4_row0_col2, #T_5b7d4_row1_col0, #T_5b7d4_row1_col1, #T_5b7d4_row1_col2, #T_5b7d4_row2_col0, #T_5b7d4_row2_col1, #T_5b7d4_row2_col2, #T_5b7d4_row3_col0, #T_5b7d4_row3_col1, #T_5b7d4_row3_col2 {\n",
       "  text-align: left;\n",
       "}\n",
       "</style>\n",
       "<table id=\"T_5b7d4\">\n",
       "  <thead>\n",
       "    <tr>\n",
       "      <th class=\"blank level0\" >&nbsp;</th>\n",
       "      <th id=\"T_5b7d4_level0_col0\" class=\"col_heading level0 col0\" >author</th>\n",
       "      <th id=\"T_5b7d4_level0_col1\" class=\"col_heading level0 col1\" >title</th>\n",
       "      <th id=\"T_5b7d4_level0_col2\" class=\"col_heading level0 col2\" >Количество</th>\n",
       "    </tr>\n",
       "  </thead>\n",
       "  <tbody>\n",
       "    <tr>\n",
       "      <th id=\"T_5b7d4_level0_row0\" class=\"row_heading level0 row0\" >0</th>\n",
       "      <td id=\"T_5b7d4_row0_col0\" class=\"data row0 col0\" >Булгаков М.А.</td>\n",
       "      <td id=\"T_5b7d4_row0_col1\" class=\"data row0 col1\" >Белая гвардия</td>\n",
       "      <td id=\"T_5b7d4_row0_col2\" class=\"data row0 col2\" >5</td>\n",
       "    </tr>\n",
       "    <tr>\n",
       "      <th id=\"T_5b7d4_level0_row1\" class=\"row_heading level0 row1\" >1</th>\n",
       "      <td id=\"T_5b7d4_row1_col0\" class=\"data row1 col0\" >Булгаков М.А.</td>\n",
       "      <td id=\"T_5b7d4_row1_col1\" class=\"data row1 col1\" >Мастер и Маргарита</td>\n",
       "      <td id=\"T_5b7d4_row1_col2\" class=\"data row1 col2\" >3</td>\n",
       "    </tr>\n",
       "    <tr>\n",
       "      <th id=\"T_5b7d4_level0_row2\" class=\"row_heading level0 row2\" >2</th>\n",
       "      <td id=\"T_5b7d4_row2_col0\" class=\"data row2 col0\" >Достоевский Ф.М.</td>\n",
       "      <td id=\"T_5b7d4_row2_col1\" class=\"data row2 col1\" >Идиот</td>\n",
       "      <td id=\"T_5b7d4_row2_col2\" class=\"data row2 col2\" >10</td>\n",
       "    </tr>\n",
       "    <tr>\n",
       "      <th id=\"T_5b7d4_level0_row3\" class=\"row_heading level0 row3\" >3</th>\n",
       "      <td id=\"T_5b7d4_row3_col0\" class=\"data row3 col0\" >Есенин С.А.</td>\n",
       "      <td id=\"T_5b7d4_row3_col1\" class=\"data row3 col1\" >Стихотворения и поэмы</td>\n",
       "      <td id=\"T_5b7d4_row3_col2\" class=\"data row3 col2\" >15</td>\n",
       "    </tr>\n",
       "  </tbody>\n",
       "</table>\n"
      ],
      "text/plain": [
       "<pandas.io.formats.style.Styler at 0x137eeb990>"
      ]
     },
     "execution_count": 27,
     "metadata": {},
     "output_type": "execute_result"
    }
   ],
   "source": [
    "read_sql_query(\"\"\"\n",
    "SELECT author, title, amount AS Количество\n",
    "FROM book\n",
    "WHERE price < 750\n",
    "ORDER BY 1, 3 DESC;\n",
    "\"\"\")"
   ]
  },
  {
   "cell_type": "markdown",
   "id": "29aecec9",
   "metadata": {},
   "source": [
    "<p><strong>Важно! </strong>Если названия столбцов заключены в кавычки, то при использовании их в сортировке, необходимо записывать их БЕЗ КАВЫЧЕК.</p>"
   ]
  },
  {
   "cell_type": "markdown",
   "id": "f2346c18",
   "metadata": {},
   "source": [
    "## Задание\n",
    "\n",
    "<p>Вывести &nbsp;автора и название &nbsp;книг, количество которых принадлежит интервалу от 2 до 14 (включая границы).&nbsp;Информацию &nbsp;отсортировать сначала по авторам (в обратном алфавитном порядке), а затем по названиям книг (по алфавиту).</p>"
   ]
  },
  {
   "cell_type": "code",
   "execution_count": 28,
   "id": "08adb673",
   "metadata": {},
   "outputs": [
    {
     "data": {
      "text/html": [
       "<style type=\"text/css\">\n",
       "#T_8fae2_row0_col0, #T_8fae2_row0_col1, #T_8fae2_row1_col0, #T_8fae2_row1_col1, #T_8fae2_row2_col0, #T_8fae2_row2_col1, #T_8fae2_row3_col0, #T_8fae2_row3_col1 {\n",
       "  text-align: left;\n",
       "}\n",
       "</style>\n",
       "<table id=\"T_8fae2\">\n",
       "  <thead>\n",
       "    <tr>\n",
       "      <th class=\"blank level0\" >&nbsp;</th>\n",
       "      <th id=\"T_8fae2_level0_col0\" class=\"col_heading level0 col0\" >author</th>\n",
       "      <th id=\"T_8fae2_level0_col1\" class=\"col_heading level0 col1\" >title</th>\n",
       "    </tr>\n",
       "  </thead>\n",
       "  <tbody>\n",
       "    <tr>\n",
       "      <th id=\"T_8fae2_level0_row0\" class=\"row_heading level0 row0\" >0</th>\n",
       "      <td id=\"T_8fae2_row0_col0\" class=\"data row0 col0\" >Достоевский Ф.М.</td>\n",
       "      <td id=\"T_8fae2_row0_col1\" class=\"data row0 col1\" >Братья Карамазовы</td>\n",
       "    </tr>\n",
       "    <tr>\n",
       "      <th id=\"T_8fae2_level0_row1\" class=\"row_heading level0 row1\" >1</th>\n",
       "      <td id=\"T_8fae2_row1_col0\" class=\"data row1 col0\" >Достоевский Ф.М.</td>\n",
       "      <td id=\"T_8fae2_row1_col1\" class=\"data row1 col1\" >Идиот</td>\n",
       "    </tr>\n",
       "    <tr>\n",
       "      <th id=\"T_8fae2_level0_row2\" class=\"row_heading level0 row2\" >2</th>\n",
       "      <td id=\"T_8fae2_row2_col0\" class=\"data row2 col0\" >Булгаков М.А.</td>\n",
       "      <td id=\"T_8fae2_row2_col1\" class=\"data row2 col1\" >Белая гвардия</td>\n",
       "    </tr>\n",
       "    <tr>\n",
       "      <th id=\"T_8fae2_level0_row3\" class=\"row_heading level0 row3\" >3</th>\n",
       "      <td id=\"T_8fae2_row3_col0\" class=\"data row3 col0\" >Булгаков М.А.</td>\n",
       "      <td id=\"T_8fae2_row3_col1\" class=\"data row3 col1\" >Мастер и Маргарита</td>\n",
       "    </tr>\n",
       "  </tbody>\n",
       "</table>\n"
      ],
      "text/plain": [
       "<pandas.io.formats.style.Styler at 0x137eebed0>"
      ]
     },
     "execution_count": 28,
     "metadata": {},
     "output_type": "execute_result"
    }
   ],
   "source": [
    "read_sql_query(\"\"\"\n",
    "SELECT author, title\n",
    "FROM book\n",
    "WHERE amount BETWEEN 2 AND 14\n",
    "ORDER BY author DESC, title\n",
    "\"\"\")"
   ]
  },
  {
   "cell_type": "markdown",
   "id": "80a583a3",
   "metadata": {},
   "source": [
    "<h2>Выборка данных, оператор LIKE</h2>\n",
    "\n",
    "<p>Оператор <code>LIKE</code> используется для сравнения строк. В отличие от операторов отношения равно (<strong>=</strong>) и не равно (<strong>&lt;&gt;</strong>), <code>LIKE</code> позволяет сравнивать строки не на полное совпадение (не совпадение), а в соответствии с шаблоном.&nbsp;Шаблон может включать <strong>обычные символы</strong> и <strong>символы-шаблоны</strong>.&nbsp;При сравнении с шаблоном,&nbsp;его обычные символы должны в точности совпадать с символами, указанными в строке.&nbsp;Символы-шаблоны могут совпадать с произвольными элементами символьной строки.</p>\n",
    "\n",
    "<table border=\"1\">\n",
    "\t<thead>\n",
    "\t\t<tr style=\"background-color: #e6f8e0; background: #e6f8e0; text-align: center;\">\n",
    "\t\t\t<th><sup>Символ-шаблон</sup></th>\n",
    "\t\t\t<th>Описание</th>\n",
    "\t\t\t<th>Пример</th>\n",
    "\t\t</tr>\n",
    "\t</thead>\n",
    "\t<tbody>\n",
    "\t\t<tr>\n",
    "\t\t\t<td><strong>%</strong></td>\n",
    "\t\t\t<td>Любая строка, содержащая ноль или более символов</td>\n",
    "\t\t\t<td><code>SELECT * FROM book WHERE author LIKE '%М.%' </code><br>\n",
    "\t\t\tвыполняет поиск и выдает все книги, инициалы авторов которых содержат «<em>М.</em>»</td>\n",
    "\t\t</tr>\n",
    "\t\t<tr>\n",
    "\t\t\t<td><strong>_ </strong><sup>(подчеркивание)</sup></td>\n",
    "\t\t\t<td>Любой одиночный символ</td>\n",
    "\t\t\t<td><code>SELECT * FROM book WHERE title LIKE 'Поэм_' </code><br>\n",
    "\t\t\tвыполняет поиск и выдает все книги, названия которых либо «<em>Поэма</em>», либо «<em>Поэмы</em>» и пр.</td>\n",
    "\t\t</tr>\n",
    "\t</tbody>\n",
    "</table>"
   ]
  },
  {
   "cell_type": "code",
   "execution_count": 31,
   "id": "c309b9ce",
   "metadata": {},
   "outputs": [
    {
     "data": {
      "text/html": [
       "<style type=\"text/css\">\n",
       "#T_3fb34_row0_col0, #T_3fb34_row0_col1, #T_3fb34_row0_col2, #T_3fb34_row0_col3, #T_3fb34_row0_col4, #T_3fb34_row1_col0, #T_3fb34_row1_col1, #T_3fb34_row1_col2, #T_3fb34_row1_col3, #T_3fb34_row1_col4, #T_3fb34_row2_col0, #T_3fb34_row2_col1, #T_3fb34_row2_col2, #T_3fb34_row2_col3, #T_3fb34_row2_col4, #T_3fb34_row3_col0, #T_3fb34_row3_col1, #T_3fb34_row3_col2, #T_3fb34_row3_col3, #T_3fb34_row3_col4 {\n",
       "  text-align: left;\n",
       "}\n",
       "</style>\n",
       "<table id=\"T_3fb34\">\n",
       "  <thead>\n",
       "    <tr>\n",
       "      <th class=\"blank level0\" >&nbsp;</th>\n",
       "      <th id=\"T_3fb34_level0_col0\" class=\"col_heading level0 col0\" >book_id</th>\n",
       "      <th id=\"T_3fb34_level0_col1\" class=\"col_heading level0 col1\" >title</th>\n",
       "      <th id=\"T_3fb34_level0_col2\" class=\"col_heading level0 col2\" >author</th>\n",
       "      <th id=\"T_3fb34_level0_col3\" class=\"col_heading level0 col3\" >price</th>\n",
       "      <th id=\"T_3fb34_level0_col4\" class=\"col_heading level0 col4\" >amount</th>\n",
       "    </tr>\n",
       "  </thead>\n",
       "  <tbody>\n",
       "    <tr>\n",
       "      <th id=\"T_3fb34_level0_row0\" class=\"row_heading level0 row0\" >0</th>\n",
       "      <td id=\"T_3fb34_row0_col0\" class=\"data row0 col0\" >1</td>\n",
       "      <td id=\"T_3fb34_row0_col1\" class=\"data row0 col1\" >Мастер и Маргарита</td>\n",
       "      <td id=\"T_3fb34_row0_col2\" class=\"data row0 col2\" >Булгаков М.А.</td>\n",
       "      <td id=\"T_3fb34_row0_col3\" class=\"data row0 col3\" >670.990000</td>\n",
       "      <td id=\"T_3fb34_row0_col4\" class=\"data row0 col4\" >3</td>\n",
       "    </tr>\n",
       "    <tr>\n",
       "      <th id=\"T_3fb34_level0_row1\" class=\"row_heading level0 row1\" >1</th>\n",
       "      <td id=\"T_3fb34_row1_col0\" class=\"data row1 col0\" >2</td>\n",
       "      <td id=\"T_3fb34_row1_col1\" class=\"data row1 col1\" >Белая гвардия</td>\n",
       "      <td id=\"T_3fb34_row1_col2\" class=\"data row1 col2\" >Булгаков М.А.</td>\n",
       "      <td id=\"T_3fb34_row1_col3\" class=\"data row1 col3\" >540.500000</td>\n",
       "      <td id=\"T_3fb34_row1_col4\" class=\"data row1 col4\" >5</td>\n",
       "    </tr>\n",
       "    <tr>\n",
       "      <th id=\"T_3fb34_level0_row2\" class=\"row_heading level0 row2\" >2</th>\n",
       "      <td id=\"T_3fb34_row2_col0\" class=\"data row2 col0\" >3</td>\n",
       "      <td id=\"T_3fb34_row2_col1\" class=\"data row2 col1\" >Идиот</td>\n",
       "      <td id=\"T_3fb34_row2_col2\" class=\"data row2 col2\" >Достоевский Ф.М.</td>\n",
       "      <td id=\"T_3fb34_row2_col3\" class=\"data row2 col3\" >460.000000</td>\n",
       "      <td id=\"T_3fb34_row2_col4\" class=\"data row2 col4\" >10</td>\n",
       "    </tr>\n",
       "    <tr>\n",
       "      <th id=\"T_3fb34_level0_row3\" class=\"row_heading level0 row3\" >3</th>\n",
       "      <td id=\"T_3fb34_row3_col0\" class=\"data row3 col0\" >4</td>\n",
       "      <td id=\"T_3fb34_row3_col1\" class=\"data row3 col1\" >Братья Карамазовы</td>\n",
       "      <td id=\"T_3fb34_row3_col2\" class=\"data row3 col2\" >Достоевский Ф.М.</td>\n",
       "      <td id=\"T_3fb34_row3_col3\" class=\"data row3 col3\" >799.010000</td>\n",
       "      <td id=\"T_3fb34_row3_col4\" class=\"data row3 col4\" >2</td>\n",
       "    </tr>\n",
       "  </tbody>\n",
       "</table>\n"
      ],
      "text/plain": [
       "<pandas.io.formats.style.Styler at 0x15a23bf90>"
      ]
     },
     "execution_count": 31,
     "metadata": {},
     "output_type": "execute_result"
    }
   ],
   "source": [
    "read_sql_query(\"\"\"\n",
    "SELECT * FROM book WHERE author LIKE '%%М.%%'\n",
    "\"\"\")"
   ]
  },
  {
   "cell_type": "markdown",
   "id": "6abbe38f",
   "metadata": {},
   "source": [
    "## Пример 1\n",
    "\n",
    "<p>Вывести названия книг, начинающихся с буквы&nbsp;«<em>Б</em>».</p>"
   ]
  },
  {
   "cell_type": "code",
   "execution_count": 37,
   "id": "a162d129",
   "metadata": {},
   "outputs": [
    {
     "data": {
      "text/html": [
       "<style type=\"text/css\">\n",
       "#T_6e4f9_row0_col0, #T_6e4f9_row1_col0 {\n",
       "  text-align: left;\n",
       "}\n",
       "</style>\n",
       "<table id=\"T_6e4f9\">\n",
       "  <thead>\n",
       "    <tr>\n",
       "      <th class=\"blank level0\" >&nbsp;</th>\n",
       "      <th id=\"T_6e4f9_level0_col0\" class=\"col_heading level0 col0\" >title</th>\n",
       "    </tr>\n",
       "  </thead>\n",
       "  <tbody>\n",
       "    <tr>\n",
       "      <th id=\"T_6e4f9_level0_row0\" class=\"row_heading level0 row0\" >0</th>\n",
       "      <td id=\"T_6e4f9_row0_col0\" class=\"data row0 col0\" >Белая гвардия</td>\n",
       "    </tr>\n",
       "    <tr>\n",
       "      <th id=\"T_6e4f9_level0_row1\" class=\"row_heading level0 row1\" >1</th>\n",
       "      <td id=\"T_6e4f9_row1_col0\" class=\"data row1 col0\" >Братья Карамазовы</td>\n",
       "    </tr>\n",
       "  </tbody>\n",
       "</table>\n"
      ],
      "text/plain": [
       "<pandas.io.formats.style.Styler at 0x136fec590>"
      ]
     },
     "execution_count": 37,
     "metadata": {},
     "output_type": "execute_result"
    }
   ],
   "source": [
    "read_sql_query(\"\"\"\n",
    "SELECT title \n",
    "FROM book\n",
    "WHERE title LIKE 'Б%%';\n",
    "/* эквивалентное условие \n",
    "title LIKE 'б%%'\n",
    "*/\n",
    "\"\"\")"
   ]
  },
  {
   "cell_type": "markdown",
   "id": "7f18ef5a",
   "metadata": {},
   "source": [
    "## Пример 2\n",
    "\n",
    "<p>Вывести название книг, состоящих ровно из 5 букв.</p>"
   ]
  },
  {
   "cell_type": "code",
   "execution_count": 39,
   "id": "581d7f5a",
   "metadata": {},
   "outputs": [
    {
     "data": {
      "text/html": [
       "<style type=\"text/css\">\n",
       "#T_127de_row0_col0 {\n",
       "  text-align: left;\n",
       "}\n",
       "</style>\n",
       "<table id=\"T_127de\">\n",
       "  <thead>\n",
       "    <tr>\n",
       "      <th class=\"blank level0\" >&nbsp;</th>\n",
       "      <th id=\"T_127de_level0_col0\" class=\"col_heading level0 col0\" >title</th>\n",
       "    </tr>\n",
       "  </thead>\n",
       "  <tbody>\n",
       "    <tr>\n",
       "      <th id=\"T_127de_level0_row0\" class=\"row_heading level0 row0\" >0</th>\n",
       "      <td id=\"T_127de_row0_col0\" class=\"data row0 col0\" >Идиот</td>\n",
       "    </tr>\n",
       "  </tbody>\n",
       "</table>\n"
      ],
      "text/plain": [
       "<pandas.io.formats.style.Styler at 0x15a0eea50>"
      ]
     },
     "execution_count": 39,
     "metadata": {},
     "output_type": "execute_result"
    }
   ],
   "source": [
    "read_sql_query(\"\"\"\n",
    "SELECT title FROM book\n",
    "WHERE title LIKE '_____'\n",
    "\"\"\")"
   ]
  },
  {
   "cell_type": "markdown",
   "id": "544c331d",
   "metadata": {},
   "source": [
    "## Пример 3\n",
    "\n",
    "<p>Вывести книги, название которых длиннее 5 символов:</p>"
   ]
  },
  {
   "cell_type": "code",
   "execution_count": 41,
   "id": "4154ac75",
   "metadata": {},
   "outputs": [
    {
     "data": {
      "text/html": [
       "<style type=\"text/css\">\n",
       "#T_94af7_row0_col0, #T_94af7_row1_col0, #T_94af7_row2_col0, #T_94af7_row3_col0 {\n",
       "  text-align: left;\n",
       "}\n",
       "</style>\n",
       "<table id=\"T_94af7\">\n",
       "  <thead>\n",
       "    <tr>\n",
       "      <th class=\"blank level0\" >&nbsp;</th>\n",
       "      <th id=\"T_94af7_level0_col0\" class=\"col_heading level0 col0\" >title</th>\n",
       "    </tr>\n",
       "  </thead>\n",
       "  <tbody>\n",
       "    <tr>\n",
       "      <th id=\"T_94af7_level0_row0\" class=\"row_heading level0 row0\" >0</th>\n",
       "      <td id=\"T_94af7_row0_col0\" class=\"data row0 col0\" >Мастер и Маргарита</td>\n",
       "    </tr>\n",
       "    <tr>\n",
       "      <th id=\"T_94af7_level0_row1\" class=\"row_heading level0 row1\" >1</th>\n",
       "      <td id=\"T_94af7_row1_col0\" class=\"data row1 col0\" >Белая гвардия</td>\n",
       "    </tr>\n",
       "    <tr>\n",
       "      <th id=\"T_94af7_level0_row2\" class=\"row_heading level0 row2\" >2</th>\n",
       "      <td id=\"T_94af7_row2_col0\" class=\"data row2 col0\" >Братья Карамазовы</td>\n",
       "    </tr>\n",
       "    <tr>\n",
       "      <th id=\"T_94af7_level0_row3\" class=\"row_heading level0 row3\" >3</th>\n",
       "      <td id=\"T_94af7_row3_col0\" class=\"data row3 col0\" >Стихотворения и поэмы</td>\n",
       "    </tr>\n",
       "  </tbody>\n",
       "</table>\n"
      ],
      "text/plain": [
       "<pandas.io.formats.style.Styler at 0x15a26e610>"
      ]
     },
     "execution_count": 41,
     "metadata": {},
     "output_type": "execute_result"
    }
   ],
   "source": [
    "read_sql_query(\"\"\"\n",
    "SELECT title FROM book\n",
    "WHERE title LIKE '______%%'\n",
    "/* эквивалентные условия \n",
    "title LIKE \"%%______\"\n",
    "title LIKE \"%%______%%\"\n",
    "*/\n",
    "\"\"\")"
   ]
  },
  {
   "cell_type": "markdown",
   "id": "fdee4c28",
   "metadata": {},
   "source": [
    "## Пример 4\n",
    "\n",
    "<p>Вывести названия книг, которые содержат букву <strong>\"и\"</strong> как отдельное слово, если считать, что слова в названии отделяются друг от друга пробелами и не содержат знаков препинания.</p>"
   ]
  },
  {
   "cell_type": "code",
   "execution_count": 42,
   "id": "30fb7a2c",
   "metadata": {},
   "outputs": [
    {
     "data": {
      "text/html": [
       "<style type=\"text/css\">\n",
       "#T_018b0_row0_col0, #T_018b0_row1_col0 {\n",
       "  text-align: left;\n",
       "}\n",
       "</style>\n",
       "<table id=\"T_018b0\">\n",
       "  <thead>\n",
       "    <tr>\n",
       "      <th class=\"blank level0\" >&nbsp;</th>\n",
       "      <th id=\"T_018b0_level0_col0\" class=\"col_heading level0 col0\" >title</th>\n",
       "    </tr>\n",
       "  </thead>\n",
       "  <tbody>\n",
       "    <tr>\n",
       "      <th id=\"T_018b0_level0_row0\" class=\"row_heading level0 row0\" >0</th>\n",
       "      <td id=\"T_018b0_row0_col0\" class=\"data row0 col0\" >Мастер и Маргарита</td>\n",
       "    </tr>\n",
       "    <tr>\n",
       "      <th id=\"T_018b0_level0_row1\" class=\"row_heading level0 row1\" >1</th>\n",
       "      <td id=\"T_018b0_row1_col0\" class=\"data row1 col0\" >Стихотворения и поэмы</td>\n",
       "    </tr>\n",
       "  </tbody>\n",
       "</table>\n"
      ],
      "text/plain": [
       "<pandas.io.formats.style.Styler at 0x15a1ca750>"
      ]
     },
     "execution_count": 42,
     "metadata": {},
     "output_type": "execute_result"
    }
   ],
   "source": [
    "read_sql_query(\"\"\"\n",
    "SELECT title FROM book\n",
    "WHERE title LIKE '_%% и _%%' /* отбирает слово И внутри названия */\n",
    "    OR title LIKE 'и _%%' /* отбирает слово И в начале названия */\n",
    "    OR title LIKE '_%% и' /*отбирает слово И в конце названия */\n",
    "    OR title LIKE 'и' /* отбирает название, состоящее из одного слова И */\n",
    "\"\"\")"
   ]
  },
  {
   "cell_type": "markdown",
   "id": "e4f643e6",
   "metadata": {},
   "source": [
    "## Пример 5\n",
    "\n",
    "<p>Вывести названия книг, которые состоят ровно из одного слова, если считать, что слова в названии отделяются друг от друга пробелами .</p>"
   ]
  },
  {
   "cell_type": "code",
   "execution_count": 45,
   "id": "15bbc110",
   "metadata": {},
   "outputs": [
    {
     "data": {
      "text/html": [
       "<style type=\"text/css\">\n",
       "#T_bdecb_row0_col0 {\n",
       "  text-align: left;\n",
       "}\n",
       "</style>\n",
       "<table id=\"T_bdecb\">\n",
       "  <thead>\n",
       "    <tr>\n",
       "      <th class=\"blank level0\" >&nbsp;</th>\n",
       "      <th id=\"T_bdecb_level0_col0\" class=\"col_heading level0 col0\" >title</th>\n",
       "    </tr>\n",
       "  </thead>\n",
       "  <tbody>\n",
       "    <tr>\n",
       "      <th id=\"T_bdecb_level0_row0\" class=\"row_heading level0 row0\" >0</th>\n",
       "      <td id=\"T_bdecb_row0_col0\" class=\"data row0 col0\" >Идиот</td>\n",
       "    </tr>\n",
       "  </tbody>\n",
       "</table>\n"
      ],
      "text/plain": [
       "<pandas.io.formats.style.Styler at 0x13686e610>"
      ]
     },
     "execution_count": 45,
     "metadata": {},
     "output_type": "execute_result"
    }
   ],
   "source": [
    "read_sql_query(\"\"\"\n",
    "SELECT title FROM book\n",
    "WHERE title NOT LIKE '%% %%'\n",
    "\"\"\")"
   ]
  },
  {
   "cell_type": "markdown",
   "id": "a167c80d",
   "metadata": {},
   "source": [
    "<h2>Задание</h2>\n",
    "\n",
    "<p>Вывести название и автора тех книг, название которых состоит из двух и более слов, а инициалы автора содержат букву «С». Считать, что в названии слова отделяются друг от друга пробелами и не содержат знаков препинания, между фамилией автора и инициалами обязателен пробел, инициалы записываются без пробела в формате: буква, точка, буква, точка. Информацию отсортировать по названию книги в алфавитном порядке.</p>"
   ]
  },
  {
   "cell_type": "code",
   "execution_count": 66,
   "id": "cdb832b0",
   "metadata": {},
   "outputs": [
    {
     "data": {
      "text/html": [
       "<style type=\"text/css\">\n",
       "#T_27e26_row0_col0, #T_27e26_row0_col1 {\n",
       "  text-align: left;\n",
       "}\n",
       "</style>\n",
       "<table id=\"T_27e26\">\n",
       "  <thead>\n",
       "    <tr>\n",
       "      <th class=\"blank level0\" >&nbsp;</th>\n",
       "      <th id=\"T_27e26_level0_col0\" class=\"col_heading level0 col0\" >title</th>\n",
       "      <th id=\"T_27e26_level0_col1\" class=\"col_heading level0 col1\" >author</th>\n",
       "    </tr>\n",
       "  </thead>\n",
       "  <tbody>\n",
       "    <tr>\n",
       "      <th id=\"T_27e26_level0_row0\" class=\"row_heading level0 row0\" >0</th>\n",
       "      <td id=\"T_27e26_row0_col0\" class=\"data row0 col0\" >Стихотворения и поэмы</td>\n",
       "      <td id=\"T_27e26_row0_col1\" class=\"data row0 col1\" >Есенин С.А.</td>\n",
       "    </tr>\n",
       "  </tbody>\n",
       "</table>\n"
      ],
      "text/plain": [
       "<pandas.io.formats.style.Styler at 0x15a650850>"
      ]
     },
     "execution_count": 66,
     "metadata": {},
     "output_type": "execute_result"
    }
   ],
   "source": [
    "read_sql_query(\"\"\"\n",
    "SELECT title, author FROM book\n",
    "WHERE (title LIKE '%%_ _%%') AND (author LIKE '%%С.%%')\n",
    "ORDER BY title\n",
    "\"\"\")"
   ]
  },
  {
   "cell_type": "markdown",
   "id": "a68c092e",
   "metadata": {},
   "source": [
    "<h2>Выбор уникальных элементов столбца</h2>\n",
    "\n",
    "<p>Чтобы отобрать уникальные элементы некоторого столбца используется ключевое слово <code>DISTINCT</code>, которое размещается сразу после <code>SELECT</code>.</p>\n",
    "\n",
    "<strong>Пример</strong>\n",
    "\n",
    "<p>Выбрать различных&nbsp;авторов, книги которых хранятся в таблице<code><strong> book</strong></code>.</p>"
   ]
  },
  {
   "cell_type": "code",
   "execution_count": 67,
   "id": "53d63464",
   "metadata": {},
   "outputs": [
    {
     "data": {
      "text/html": [
       "<style type=\"text/css\">\n",
       "#T_c2e9f_row0_col0, #T_c2e9f_row1_col0, #T_c2e9f_row2_col0 {\n",
       "  text-align: left;\n",
       "}\n",
       "</style>\n",
       "<table id=\"T_c2e9f\">\n",
       "  <thead>\n",
       "    <tr>\n",
       "      <th class=\"blank level0\" >&nbsp;</th>\n",
       "      <th id=\"T_c2e9f_level0_col0\" class=\"col_heading level0 col0\" >author</th>\n",
       "    </tr>\n",
       "  </thead>\n",
       "  <tbody>\n",
       "    <tr>\n",
       "      <th id=\"T_c2e9f_level0_row0\" class=\"row_heading level0 row0\" >0</th>\n",
       "      <td id=\"T_c2e9f_row0_col0\" class=\"data row0 col0\" >Есенин С.А.</td>\n",
       "    </tr>\n",
       "    <tr>\n",
       "      <th id=\"T_c2e9f_level0_row1\" class=\"row_heading level0 row1\" >1</th>\n",
       "      <td id=\"T_c2e9f_row1_col0\" class=\"data row1 col0\" >Булгаков М.А.</td>\n",
       "    </tr>\n",
       "    <tr>\n",
       "      <th id=\"T_c2e9f_level0_row2\" class=\"row_heading level0 row2\" >2</th>\n",
       "      <td id=\"T_c2e9f_row2_col0\" class=\"data row2 col0\" >Достоевский Ф.М.</td>\n",
       "    </tr>\n",
       "  </tbody>\n",
       "</table>\n"
      ],
      "text/plain": [
       "<pandas.io.formats.style.Styler at 0x15a73ac10>"
      ]
     },
     "execution_count": 67,
     "metadata": {},
     "output_type": "execute_result"
    }
   ],
   "source": [
    "read_sql_query(\"\"\"\n",
    "SELECT DISTINCT author\n",
    "FROM book;\n",
    "\"\"\")"
   ]
  },
  {
   "cell_type": "markdown",
   "id": "07c0a349",
   "metadata": {},
   "source": [
    "<p>Другой способ – использование оператора <code>GROUP BY</code>, который группирует данные при выборке, имеющие одинаковые значения в некотором столбце. Столбец, по которому осуществляется группировка, указывается после <code>GROUP BY</code>&nbsp;.</p>\n",
    "\n",
    "<p>С помощью <code>GROUP BY</code>&nbsp;можно выбрать уникальные элементы столбца, по которому осуществляется группировка. Результат будет точно такой же как при использовании <code>DISTINCT</code>.</p>"
   ]
  },
  {
   "cell_type": "code",
   "execution_count": 68,
   "id": "556aae9e",
   "metadata": {},
   "outputs": [
    {
     "data": {
      "text/html": [
       "<style type=\"text/css\">\n",
       "#T_c15b8_row0_col0, #T_c15b8_row1_col0, #T_c15b8_row2_col0 {\n",
       "  text-align: left;\n",
       "}\n",
       "</style>\n",
       "<table id=\"T_c15b8\">\n",
       "  <thead>\n",
       "    <tr>\n",
       "      <th class=\"blank level0\" >&nbsp;</th>\n",
       "      <th id=\"T_c15b8_level0_col0\" class=\"col_heading level0 col0\" >author</th>\n",
       "    </tr>\n",
       "  </thead>\n",
       "  <tbody>\n",
       "    <tr>\n",
       "      <th id=\"T_c15b8_level0_row0\" class=\"row_heading level0 row0\" >0</th>\n",
       "      <td id=\"T_c15b8_row0_col0\" class=\"data row0 col0\" >Есенин С.А.</td>\n",
       "    </tr>\n",
       "    <tr>\n",
       "      <th id=\"T_c15b8_level0_row1\" class=\"row_heading level0 row1\" >1</th>\n",
       "      <td id=\"T_c15b8_row1_col0\" class=\"data row1 col0\" >Булгаков М.А.</td>\n",
       "    </tr>\n",
       "    <tr>\n",
       "      <th id=\"T_c15b8_level0_row2\" class=\"row_heading level0 row2\" >2</th>\n",
       "      <td id=\"T_c15b8_row2_col0\" class=\"data row2 col0\" >Достоевский Ф.М.</td>\n",
       "    </tr>\n",
       "  </tbody>\n",
       "</table>\n"
      ],
      "text/plain": [
       "<pandas.io.formats.style.Styler at 0x15a581790>"
      ]
     },
     "execution_count": 68,
     "metadata": {},
     "output_type": "execute_result"
    }
   ],
   "source": [
    "read_sql_query(\"\"\"\n",
    "SELECT author\n",
    "FROM book\n",
    "GROUP BY author\n",
    "\"\"\")"
   ]
  },
  {
   "cell_type": "markdown",
   "id": "59cdf693",
   "metadata": {},
   "source": [
    "<h2>Задание</h2>\n",
    "\n",
    "<p>Отобрать различные (уникальные) элементы столбца <code><strong>amount</strong></code> таблицы<code><strong> book</strong></code>.</p>"
   ]
  },
  {
   "cell_type": "code",
   "execution_count": 71,
   "id": "1ba44d67",
   "metadata": {},
   "outputs": [
    {
     "data": {
      "text/html": [
       "<style type=\"text/css\">\n",
       "#T_c2a79_row0_col0, #T_c2a79_row1_col0, #T_c2a79_row2_col0, #T_c2a79_row3_col0, #T_c2a79_row4_col0 {\n",
       "  text-align: left;\n",
       "}\n",
       "</style>\n",
       "<table id=\"T_c2a79\">\n",
       "  <thead>\n",
       "    <tr>\n",
       "      <th class=\"blank level0\" >&nbsp;</th>\n",
       "      <th id=\"T_c2a79_level0_col0\" class=\"col_heading level0 col0\" >amount</th>\n",
       "    </tr>\n",
       "  </thead>\n",
       "  <tbody>\n",
       "    <tr>\n",
       "      <th id=\"T_c2a79_level0_row0\" class=\"row_heading level0 row0\" >0</th>\n",
       "      <td id=\"T_c2a79_row0_col0\" class=\"data row0 col0\" >15</td>\n",
       "    </tr>\n",
       "    <tr>\n",
       "      <th id=\"T_c2a79_level0_row1\" class=\"row_heading level0 row1\" >1</th>\n",
       "      <td id=\"T_c2a79_row1_col0\" class=\"data row1 col0\" >3</td>\n",
       "    </tr>\n",
       "    <tr>\n",
       "      <th id=\"T_c2a79_level0_row2\" class=\"row_heading level0 row2\" >2</th>\n",
       "      <td id=\"T_c2a79_row2_col0\" class=\"data row2 col0\" >5</td>\n",
       "    </tr>\n",
       "    <tr>\n",
       "      <th id=\"T_c2a79_level0_row3\" class=\"row_heading level0 row3\" >3</th>\n",
       "      <td id=\"T_c2a79_row3_col0\" class=\"data row3 col0\" >10</td>\n",
       "    </tr>\n",
       "    <tr>\n",
       "      <th id=\"T_c2a79_level0_row4\" class=\"row_heading level0 row4\" >4</th>\n",
       "      <td id=\"T_c2a79_row4_col0\" class=\"data row4 col0\" >2</td>\n",
       "    </tr>\n",
       "  </tbody>\n",
       "</table>\n"
      ],
      "text/plain": [
       "<pandas.io.formats.style.Styler at 0x15a4bf710>"
      ]
     },
     "execution_count": 71,
     "metadata": {},
     "output_type": "execute_result"
    }
   ],
   "source": [
    "read_sql_query(\"\"\"\n",
    "SELECT amount FROM book\n",
    "GROUP BY amount\n",
    "\"\"\")"
   ]
  },
  {
   "cell_type": "markdown",
   "id": "f014adac",
   "metadata": {},
   "source": [
    "<h2>Выборка данных, групповые функции SUM&nbsp;и COUNT</h2>\n",
    "\n",
    "<p>При группировке над элементами столбца, входящими в группу можно выполнить различные действия, например, просуммировать их или найти количество элементов в группе.</p>\n",
    "\n",
    "<p>Подробно рассмотрим, как осуществляется группировка данных по некоторому столбцу и вычисления над группой на следующем примере:</p>"
   ]
  },
  {
   "cell_type": "code",
   "execution_count": 80,
   "id": "073115b0",
   "metadata": {},
   "outputs": [
    {
     "data": {
      "text/html": [
       "<style type=\"text/css\">\n",
       "#T_5b844_row0_col0, #T_5b844_row0_col1, #T_5b844_row0_col2, #T_5b844_row1_col0, #T_5b844_row1_col1, #T_5b844_row1_col2, #T_5b844_row2_col0, #T_5b844_row2_col1, #T_5b844_row2_col2 {\n",
       "  text-align: left;\n",
       "}\n",
       "</style>\n",
       "<table id=\"T_5b844\">\n",
       "  <thead>\n",
       "    <tr>\n",
       "      <th class=\"blank level0\" >&nbsp;</th>\n",
       "      <th id=\"T_5b844_level0_col0\" class=\"col_heading level0 col0\" >author</th>\n",
       "      <th id=\"T_5b844_level0_col1\" class=\"col_heading level0 col1\" >sum</th>\n",
       "      <th id=\"T_5b844_level0_col2\" class=\"col_heading level0 col2\" >count</th>\n",
       "    </tr>\n",
       "  </thead>\n",
       "  <tbody>\n",
       "    <tr>\n",
       "      <th id=\"T_5b844_level0_row0\" class=\"row_heading level0 row0\" >0</th>\n",
       "      <td id=\"T_5b844_row0_col0\" class=\"data row0 col0\" >Есенин С.А.</td>\n",
       "      <td id=\"T_5b844_row0_col1\" class=\"data row0 col1\" >15</td>\n",
       "      <td id=\"T_5b844_row0_col2\" class=\"data row0 col2\" >1</td>\n",
       "    </tr>\n",
       "    <tr>\n",
       "      <th id=\"T_5b844_level0_row1\" class=\"row_heading level0 row1\" >1</th>\n",
       "      <td id=\"T_5b844_row1_col0\" class=\"data row1 col0\" >Булгаков М.А.</td>\n",
       "      <td id=\"T_5b844_row1_col1\" class=\"data row1 col1\" >8</td>\n",
       "      <td id=\"T_5b844_row1_col2\" class=\"data row1 col2\" >2</td>\n",
       "    </tr>\n",
       "    <tr>\n",
       "      <th id=\"T_5b844_level0_row2\" class=\"row_heading level0 row2\" >2</th>\n",
       "      <td id=\"T_5b844_row2_col0\" class=\"data row2 col0\" >Достоевский Ф.М.</td>\n",
       "      <td id=\"T_5b844_row2_col1\" class=\"data row2 col1\" >23</td>\n",
       "      <td id=\"T_5b844_row2_col2\" class=\"data row2 col2\" >3</td>\n",
       "    </tr>\n",
       "  </tbody>\n",
       "</table>\n"
      ],
      "text/plain": [
       "<pandas.io.formats.style.Styler at 0x15a952c90>"
      ]
     },
     "execution_count": 80,
     "metadata": {},
     "output_type": "execute_result"
    }
   ],
   "source": [
    "read_sql_query(\"\"\"\n",
    "SELECT author, sum(amount), count(amount)\n",
    "FROM book\n",
    "GROUP by author\n",
    "\"\"\")"
   ]
  },
  {
   "cell_type": "markdown",
   "id": "5380d394",
   "metadata": {},
   "source": [
    "<p>1. В таблице <code><strong>book</strong></code> определяются строки, в которых в столбце <code><strong>author</strong></code> одинаковые значения:</p>"
   ]
  },
  {
   "attachments": {
    "image.png": {
     "image/png": "[encoded data removed]"
    }
   },
   "cell_type": "markdown",
   "id": "55c8fd37",
   "metadata": {},
   "source": [
    "![image.png](attachment:image.png)"
   ]
  },
  {
   "attachments": {
    "image-2.png": {
     "image/png": "[encoded data removed]"
    },
    "image.png": {
     "image/png": "[encoded data removed]"
    }
   },
   "cell_type": "markdown",
   "id": "66f72b34",
   "metadata": {},
   "source": [
    "<p>Получили 3 различные группы:</p>\n",
    "\n",
    "<ul>\n",
    "\t<li><strong>группа I</strong> объединяет две записи, у которых в столбце <code><strong>author</strong></code> значение Булгаков&nbsp;М.А.;</li>\n",
    "\t<li><strong>группа II</strong> объединяет три записи, у которых в столбце <code><strong>author</strong></code> значение Достоевский Ф.М.;</li>\n",
    "\t<li><strong>группа III</strong> объединяет одну запись, у которой в столбце <code><strong>author</strong></code> значение Есенин С.А.</li>\n",
    "</ul>\n",
    "\n",
    "<p>2. Вместо каждой группы в результирующий запрос включается&nbsp; одна запись. Запись как минимум включает значение столбца, по которому осуществляется группировка (в нашем случае это <code><strong>author</strong></code>):</p>\n",
    "\n",
    "![image.png](attachment:image.png)\n",
    "\n",
    "<p>3. Дальше можно выполнить вычисления над&nbsp;элементами КАЖДОЙ группы в отдельности, например, посчитать общее количество экземпляров книг каждого автора. Для этого используется групповая функция <code>SUM()</code>, а в скобках указывается столбец, по которому нужно выполнить суммирование ( в нашем случае <code><strong>amount</strong></code>):</p>\n",
    "\n",
    "<p>4. Также можно посчитать, сколько записей относится к группе. Для этого используется функция <code>COUNT()</code>, в скобках можно указать ЛЮБОЙ столбец из группы, если группа не содержит пустых значений (ниже приведен пример, в котором показано, как работает <code><strong>COUNT()</strong></code>, если в группе есть пустые значения):</p>\n",
    "\n",
    "![image-2.png](attachment:image-2.png)\n",
    "\n",
    "## Пример\n",
    "\n",
    "<p>Посчитать, сколько экземпляров книг каждого автора хранится на складе.</p>"
   ]
  },
  {
   "cell_type": "code",
   "execution_count": 73,
   "id": "06ae0329",
   "metadata": {},
   "outputs": [
    {
     "data": {
      "text/html": [
       "<style type=\"text/css\">\n",
       "#T_70ccd_row0_col0, #T_70ccd_row0_col1, #T_70ccd_row1_col0, #T_70ccd_row1_col1, #T_70ccd_row2_col0, #T_70ccd_row2_col1 {\n",
       "  text-align: left;\n",
       "}\n",
       "</style>\n",
       "<table id=\"T_70ccd\">\n",
       "  <thead>\n",
       "    <tr>\n",
       "      <th class=\"blank level0\" >&nbsp;</th>\n",
       "      <th id=\"T_70ccd_level0_col0\" class=\"col_heading level0 col0\" >author</th>\n",
       "      <th id=\"T_70ccd_level0_col1\" class=\"col_heading level0 col1\" >sum</th>\n",
       "    </tr>\n",
       "  </thead>\n",
       "  <tbody>\n",
       "    <tr>\n",
       "      <th id=\"T_70ccd_level0_row0\" class=\"row_heading level0 row0\" >0</th>\n",
       "      <td id=\"T_70ccd_row0_col0\" class=\"data row0 col0\" >Есенин С.А.</td>\n",
       "      <td id=\"T_70ccd_row0_col1\" class=\"data row0 col1\" >15</td>\n",
       "    </tr>\n",
       "    <tr>\n",
       "      <th id=\"T_70ccd_level0_row1\" class=\"row_heading level0 row1\" >1</th>\n",
       "      <td id=\"T_70ccd_row1_col0\" class=\"data row1 col0\" >Булгаков М.А.</td>\n",
       "      <td id=\"T_70ccd_row1_col1\" class=\"data row1 col1\" >8</td>\n",
       "    </tr>\n",
       "    <tr>\n",
       "      <th id=\"T_70ccd_level0_row2\" class=\"row_heading level0 row2\" >2</th>\n",
       "      <td id=\"T_70ccd_row2_col0\" class=\"data row2 col0\" >Достоевский Ф.М.</td>\n",
       "      <td id=\"T_70ccd_row2_col1\" class=\"data row2 col1\" >12</td>\n",
       "    </tr>\n",
       "  </tbody>\n",
       "</table>\n"
      ],
      "text/plain": [
       "<pandas.io.formats.style.Styler at 0x15a502690>"
      ]
     },
     "execution_count": 73,
     "metadata": {},
     "output_type": "execute_result"
    }
   ],
   "source": [
    "read_sql_query(\"\"\"\n",
    "SELECT author, SUM(amount)\n",
    "FROM book\n",
    "GROUP by author\n",
    "\"\"\")"
   ]
  },
  {
   "cell_type": "markdown",
   "id": "c3ab3b45",
   "metadata": {},
   "source": [
    "## Пример\n",
    "\n",
    "<p>Посчитать, сколько различных&nbsp;книг каждого автора хранится на складе.</p>\n",
    "\n",
    "<p>Только для этого примера в таблицу<code><strong> book</strong></code> добавлена запись с пустыми значениями в столбцах <code><strong>amount</strong></code> и <code><strong>price</strong></code>:</p>"
   ]
  },
  {
   "cell_type": "code",
   "execution_count": 83,
   "id": "e6af06bc",
   "metadata": {},
   "outputs": [
    {
     "data": {
      "text/html": [
       "<style type=\"text/css\">\n",
       "#T_12011_row0_col0, #T_12011_row0_col1, #T_12011_row0_col2, #T_12011_row0_col3, #T_12011_row1_col0, #T_12011_row1_col1, #T_12011_row1_col2, #T_12011_row1_col3, #T_12011_row2_col0, #T_12011_row2_col1, #T_12011_row2_col2, #T_12011_row2_col3 {\n",
       "  text-align: left;\n",
       "}\n",
       "</style>\n",
       "<table id=\"T_12011\">\n",
       "  <thead>\n",
       "    <tr>\n",
       "      <th class=\"blank level0\" >&nbsp;</th>\n",
       "      <th id=\"T_12011_level0_col0\" class=\"col_heading level0 col0\" >author</th>\n",
       "      <th id=\"T_12011_level0_col1\" class=\"col_heading level0 col1\" >count_author</th>\n",
       "      <th id=\"T_12011_level0_col2\" class=\"col_heading level0 col2\" >count_amount</th>\n",
       "      <th id=\"T_12011_level0_col3\" class=\"col_heading level0 col3\" >count_all</th>\n",
       "    </tr>\n",
       "  </thead>\n",
       "  <tbody>\n",
       "    <tr>\n",
       "      <th id=\"T_12011_level0_row0\" class=\"row_heading level0 row0\" >0</th>\n",
       "      <td id=\"T_12011_row0_col0\" class=\"data row0 col0\" >Есенин С.А.</td>\n",
       "      <td id=\"T_12011_row0_col1\" class=\"data row0 col1\" >2</td>\n",
       "      <td id=\"T_12011_row0_col2\" class=\"data row0 col2\" >1</td>\n",
       "      <td id=\"T_12011_row0_col3\" class=\"data row0 col3\" >2</td>\n",
       "    </tr>\n",
       "    <tr>\n",
       "      <th id=\"T_12011_level0_row1\" class=\"row_heading level0 row1\" >1</th>\n",
       "      <td id=\"T_12011_row1_col0\" class=\"data row1 col0\" >Булгаков М.А.</td>\n",
       "      <td id=\"T_12011_row1_col1\" class=\"data row1 col1\" >2</td>\n",
       "      <td id=\"T_12011_row1_col2\" class=\"data row1 col2\" >2</td>\n",
       "      <td id=\"T_12011_row1_col3\" class=\"data row1 col3\" >2</td>\n",
       "    </tr>\n",
       "    <tr>\n",
       "      <th id=\"T_12011_level0_row2\" class=\"row_heading level0 row2\" >2</th>\n",
       "      <td id=\"T_12011_row2_col0\" class=\"data row2 col0\" >Достоевский Ф.М.</td>\n",
       "      <td id=\"T_12011_row2_col1\" class=\"data row2 col1\" >3</td>\n",
       "      <td id=\"T_12011_row2_col2\" class=\"data row2 col2\" >3</td>\n",
       "      <td id=\"T_12011_row2_col3\" class=\"data row2 col3\" >3</td>\n",
       "    </tr>\n",
       "  </tbody>\n",
       "</table>\n"
      ],
      "text/plain": [
       "<pandas.io.formats.style.Styler at 0x15a9f6f90>"
      ]
     },
     "execution_count": 83,
     "metadata": {},
     "output_type": "execute_result"
    }
   ],
   "source": [
    "read_sql_query(\"\"\"\n",
    "/* чтобы проверить запрос, добавьте в таблицу строку */\n",
    "INSERT INTO book (title, author, price, amount) \n",
    "VALUES ('Черный человек','Есенин С.А.', Null, Null);\n",
    "\n",
    "SELECT author, COUNT(author) AS count_author, \n",
    "COUNT(amount) AS count_amount, COUNT(*) AS count_all\n",
    "FROM book\n",
    "GROUP BY author\n",
    "\"\"\")"
   ]
  },
  {
   "cell_type": "markdown",
   "id": "f6440584",
   "metadata": {},
   "source": [
    "<p>Из таблицы с результатами запроса видно, что&nbsp;функцию&nbsp;<code><strong>COUNT()</strong></code>&nbsp;можно применять к любому столбцу, в том числе можно использовать и <code><strong>*</strong></code>, если таблица не содержит пустых значений. Если же в столбцах есть значения <code><strong>Null</strong></code>, (для группы по автору Есенин в нашем примере), то</p>\n",
    "\n",
    "<ul>\n",
    "\t<li><code><strong>COUNT(*) </strong></code>— &nbsp;подсчитывает&nbsp; все записи, относящиеся к группе, в том числе и со значением&nbsp;<code><strong>NULL</strong></code>;</li>\n",
    "\t<li><code><strong>COUNT(имя_столбца)</strong></code> —&nbsp;возвращает количество записей конкретного столбца (только <code><strong>NOT NULL</strong></code>), относящихся к группе.</li>\n",
    "</ul>\n",
    "\n",
    "<p><strong>ВАЖНО.</strong></p>\n",
    "\n",
    "<ol>\n",
    "\t<li>Если столбец указан в&nbsp;<code>SELECT</code>&nbsp;&nbsp;<strong>БЕЗ&nbsp;</strong>применения групповой функции, то он обязательно должен быть указан и в<code>GROUP BY.</code>Иначе получим ошибку.</li>\n",
    "\t<li>Между названием функции и скобкой <span style=\"color: #ff4363;\"><strong>НЕЛЬЗЯ СТАВИТЬ ПРОБЕЛ</strong></span>. Это особенность платформы.</li>\n",
    "</ol>\n",
    "\n",
    "<h2>Задание</h2>\n",
    "\n",
    "<p>Посчитать, количество различных&nbsp;книг и количество экземпляров книг каждого автора&nbsp;, хранящихся на складе. &nbsp;Столбцы назвать <code><strong>Автор,</strong>&nbsp;<strong>Различных_книг</strong></code> и<strong> <code>Количество_экземпляров</code></strong> соответственно.</p>"
   ]
  },
  {
   "cell_type": "code",
   "execution_count": 86,
   "id": "a0e9cb63",
   "metadata": {},
   "outputs": [
    {
     "data": {
      "text/html": [
       "<style type=\"text/css\">\n",
       "#T_046cf_row0_col0, #T_046cf_row0_col1, #T_046cf_row0_col2, #T_046cf_row1_col0, #T_046cf_row1_col1, #T_046cf_row1_col2, #T_046cf_row2_col0, #T_046cf_row2_col1, #T_046cf_row2_col2 {\n",
       "  text-align: left;\n",
       "}\n",
       "</style>\n",
       "<table id=\"T_046cf\">\n",
       "  <thead>\n",
       "    <tr>\n",
       "      <th class=\"blank level0\" >&nbsp;</th>\n",
       "      <th id=\"T_046cf_level0_col0\" class=\"col_heading level0 col0\" >Автор</th>\n",
       "      <th id=\"T_046cf_level0_col1\" class=\"col_heading level0 col1\" >Различных_книг</th>\n",
       "      <th id=\"T_046cf_level0_col2\" class=\"col_heading level0 col2\" >Количество_экземпляров</th>\n",
       "    </tr>\n",
       "  </thead>\n",
       "  <tbody>\n",
       "    <tr>\n",
       "      <th id=\"T_046cf_level0_row0\" class=\"row_heading level0 row0\" >0</th>\n",
       "      <td id=\"T_046cf_row0_col0\" class=\"data row0 col0\" >Есенин С.А.</td>\n",
       "      <td id=\"T_046cf_row0_col1\" class=\"data row0 col1\" >1</td>\n",
       "      <td id=\"T_046cf_row0_col2\" class=\"data row0 col2\" >15</td>\n",
       "    </tr>\n",
       "    <tr>\n",
       "      <th id=\"T_046cf_level0_row1\" class=\"row_heading level0 row1\" >1</th>\n",
       "      <td id=\"T_046cf_row1_col0\" class=\"data row1 col0\" >Булгаков М.А.</td>\n",
       "      <td id=\"T_046cf_row1_col1\" class=\"data row1 col1\" >2</td>\n",
       "      <td id=\"T_046cf_row1_col2\" class=\"data row1 col2\" >8</td>\n",
       "    </tr>\n",
       "    <tr>\n",
       "      <th id=\"T_046cf_level0_row2\" class=\"row_heading level0 row2\" >2</th>\n",
       "      <td id=\"T_046cf_row2_col0\" class=\"data row2 col0\" >Достоевский Ф.М.</td>\n",
       "      <td id=\"T_046cf_row2_col1\" class=\"data row2 col1\" >3</td>\n",
       "      <td id=\"T_046cf_row2_col2\" class=\"data row2 col2\" >23</td>\n",
       "    </tr>\n",
       "  </tbody>\n",
       "</table>\n"
      ],
      "text/plain": [
       "<pandas.io.formats.style.Styler at 0x15b0f2dd0>"
      ]
     },
     "execution_count": 86,
     "metadata": {},
     "output_type": "execute_result"
    }
   ],
   "source": [
    "read_sql_query(\"\"\"\n",
    "SELECT author AS Автор, count(title) AS Различных_книг, sum(amount) AS Количество_экземпляров\n",
    "FROM book\n",
    "GROUP BY author\n",
    "\"\"\")"
   ]
  },
  {
   "cell_type": "markdown",
   "id": "154a162a",
   "metadata": {},
   "source": [
    "<h2>Выборка данных, групповые функции MIN, MAX и AVG</h2>\n",
    "\n",
    "<p>К групповым функциям SQL относятся: <code>MIN()</code>, <code>MAX()</code> и <code>AVG()</code>, которые вычисляют минимальное, максимальное и среднее значение элементов столбца, относящихся к группе.</p>\n",
    "\n",
    "<strong>Пример</strong>\n",
    "\n",
    "<p>Вывести минимальную цену книги каждого автора</p>"
   ]
  },
  {
   "cell_type": "code",
   "execution_count": 87,
   "id": "72e92bac",
   "metadata": {},
   "outputs": [
    {
     "data": {
      "text/html": [
       "<style type=\"text/css\">\n",
       "#T_9400c_row0_col0, #T_9400c_row0_col1, #T_9400c_row1_col0, #T_9400c_row1_col1, #T_9400c_row2_col0, #T_9400c_row2_col1 {\n",
       "  text-align: left;\n",
       "}\n",
       "</style>\n",
       "<table id=\"T_9400c\">\n",
       "  <thead>\n",
       "    <tr>\n",
       "      <th class=\"blank level0\" >&nbsp;</th>\n",
       "      <th id=\"T_9400c_level0_col0\" class=\"col_heading level0 col0\" >author</th>\n",
       "      <th id=\"T_9400c_level0_col1\" class=\"col_heading level0 col1\" >min_price</th>\n",
       "    </tr>\n",
       "  </thead>\n",
       "  <tbody>\n",
       "    <tr>\n",
       "      <th id=\"T_9400c_level0_row0\" class=\"row_heading level0 row0\" >0</th>\n",
       "      <td id=\"T_9400c_row0_col0\" class=\"data row0 col0\" >Есенин С.А.</td>\n",
       "      <td id=\"T_9400c_row0_col1\" class=\"data row0 col1\" >650.000000</td>\n",
       "    </tr>\n",
       "    <tr>\n",
       "      <th id=\"T_9400c_level0_row1\" class=\"row_heading level0 row1\" >1</th>\n",
       "      <td id=\"T_9400c_row1_col0\" class=\"data row1 col0\" >Булгаков М.А.</td>\n",
       "      <td id=\"T_9400c_row1_col1\" class=\"data row1 col1\" >540.500000</td>\n",
       "    </tr>\n",
       "    <tr>\n",
       "      <th id=\"T_9400c_level0_row2\" class=\"row_heading level0 row2\" >2</th>\n",
       "      <td id=\"T_9400c_row2_col0\" class=\"data row2 col0\" >Достоевский Ф.М.</td>\n",
       "      <td id=\"T_9400c_row2_col1\" class=\"data row2 col1\" >460.000000</td>\n",
       "    </tr>\n",
       "  </tbody>\n",
       "</table>\n"
      ],
      "text/plain": [
       "<pandas.io.formats.style.Styler at 0x15b107310>"
      ]
     },
     "execution_count": 87,
     "metadata": {},
     "output_type": "execute_result"
    }
   ],
   "source": [
    "read_sql_query(\"\"\"\n",
    "SELECT author, MIN(price) AS min_price\n",
    "FROM book\n",
    "GROUP BY author\n",
    "\"\"\")"
   ]
  },
  {
   "cell_type": "markdown",
   "id": "7098f78a",
   "metadata": {},
   "source": [
    "<h2>Задание</h2>\n",
    "\n",
    "<p>Вывести фамилию и инициалы автора, минимальную, максимальную и среднюю цену книг каждого автора . Вычисляемые столбцы назвать <strong>Минимальная_цена, Максимальная_цена</strong> и<strong> Средняя_цена</strong> соответственно.</p>"
   ]
  },
  {
   "cell_type": "code",
   "execution_count": 89,
   "id": "a7211fba",
   "metadata": {},
   "outputs": [
    {
     "data": {
      "text/html": [
       "<style type=\"text/css\">\n",
       "#T_2746e_row0_col0, #T_2746e_row0_col1, #T_2746e_row0_col2, #T_2746e_row0_col3, #T_2746e_row1_col0, #T_2746e_row1_col1, #T_2746e_row1_col2, #T_2746e_row1_col3, #T_2746e_row2_col0, #T_2746e_row2_col1, #T_2746e_row2_col2, #T_2746e_row2_col3 {\n",
       "  text-align: left;\n",
       "}\n",
       "</style>\n",
       "<table id=\"T_2746e\">\n",
       "  <thead>\n",
       "    <tr>\n",
       "      <th class=\"blank level0\" >&nbsp;</th>\n",
       "      <th id=\"T_2746e_level0_col0\" class=\"col_heading level0 col0\" >author</th>\n",
       "      <th id=\"T_2746e_level0_col1\" class=\"col_heading level0 col1\" >Минимальная_цена</th>\n",
       "      <th id=\"T_2746e_level0_col2\" class=\"col_heading level0 col2\" >Максимальная_цена</th>\n",
       "      <th id=\"T_2746e_level0_col3\" class=\"col_heading level0 col3\" >Средняя_цена</th>\n",
       "    </tr>\n",
       "  </thead>\n",
       "  <tbody>\n",
       "    <tr>\n",
       "      <th id=\"T_2746e_level0_row0\" class=\"row_heading level0 row0\" >0</th>\n",
       "      <td id=\"T_2746e_row0_col0\" class=\"data row0 col0\" >Есенин С.А.</td>\n",
       "      <td id=\"T_2746e_row0_col1\" class=\"data row0 col1\" >650.000000</td>\n",
       "      <td id=\"T_2746e_row0_col2\" class=\"data row0 col2\" >650.000000</td>\n",
       "      <td id=\"T_2746e_row0_col3\" class=\"data row0 col3\" >650.000000</td>\n",
       "    </tr>\n",
       "    <tr>\n",
       "      <th id=\"T_2746e_level0_row1\" class=\"row_heading level0 row1\" >1</th>\n",
       "      <td id=\"T_2746e_row1_col0\" class=\"data row1 col0\" >Булгаков М.А.</td>\n",
       "      <td id=\"T_2746e_row1_col1\" class=\"data row1 col1\" >540.500000</td>\n",
       "      <td id=\"T_2746e_row1_col2\" class=\"data row1 col2\" >670.990000</td>\n",
       "      <td id=\"T_2746e_row1_col3\" class=\"data row1 col3\" >605.745000</td>\n",
       "    </tr>\n",
       "    <tr>\n",
       "      <th id=\"T_2746e_level0_row2\" class=\"row_heading level0 row2\" >2</th>\n",
       "      <td id=\"T_2746e_row2_col0\" class=\"data row2 col0\" >Достоевский Ф.М.</td>\n",
       "      <td id=\"T_2746e_row2_col1\" class=\"data row2 col1\" >460.000000</td>\n",
       "      <td id=\"T_2746e_row2_col2\" class=\"data row2 col2\" >799.010000</td>\n",
       "      <td id=\"T_2746e_row2_col3\" class=\"data row2 col3\" >579.836667</td>\n",
       "    </tr>\n",
       "  </tbody>\n",
       "</table>\n"
      ],
      "text/plain": [
       "<pandas.io.formats.style.Styler at 0x15b100a50>"
      ]
     },
     "execution_count": 89,
     "metadata": {},
     "output_type": "execute_result"
    }
   ],
   "source": [
    "read_sql_query(\"\"\"\n",
    "SELECT author, \n",
    "MIN(price) AS Минимальная_цена, \n",
    "MAX(price) AS Максимальная_цена, \n",
    "AVG(price) AS Средняя_цена\n",
    "FROM book\n",
    "GROUP BY author\n",
    "\"\"\")"
   ]
  },
  {
   "cell_type": "markdown",
   "id": "3bca9c42",
   "metadata": {},
   "source": [
    "<h2>Выборка данных c вычислением, групповые функции</h2>\n",
    "\n",
    "<p>В качестве аргумента групповых функций &nbsp;SQL может использоваться не только столбец, но и любое допустимое в SQL арифметическое выражение.</p>\n",
    "\n",
    "<strong>Пример</strong>\n",
    "\n",
    "<p>Вывести суммарную стоимость книг каждого автора.</p>\n",
    "\n"
   ]
  },
  {
   "cell_type": "code",
   "execution_count": null,
   "id": "5210f017",
   "metadata": {},
   "outputs": [],
   "source": []
  }
 ],
 "metadata": {
  "kernelspec": {
   "display_name": "Python 3 (ipykernel)",
   "language": "python",
   "name": "python3"
  },
  "language_info": {
   "codemirror_mode": {
    "name": "ipython",
    "version": 3
   },
   "file_extension": ".py",
   "mimetype": "text/x-python",
   "name": "python",
   "nbconvert_exporter": "python",
   "pygments_lexer": "ipython3",
   "version": "3.11.4"
  }
 },
 "nbformat": 4,
 "nbformat_minor": 5
}
